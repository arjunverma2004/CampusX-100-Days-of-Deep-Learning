{
  "cells": [
    {
      "cell_type": "markdown",
      "metadata": {
        "id": "view-in-github",
        "colab_type": "text"
      },
      "source": [
        "<a href=\"https://colab.research.google.com/github/arjunverma2004/CampusX-100-Days-of-Deep-Learning/blob/main/V13_admission_prediction.ipynb\" target=\"_parent\"><img src=\"https://colab.research.google.com/assets/colab-badge.svg\" alt=\"Open In Colab\"/></a>"
      ]
    },
    {
      "cell_type": "code",
      "execution_count": null,
      "id": "4ba67ebc",
      "metadata": {
        "_cell_guid": "b1076dfc-b9ad-4769-8c92-a6c4dae69d19",
        "_uuid": "8f2839f25d086af736a60e9eeb907d3b93b6e0e5",
        "execution": {
          "iopub.execute_input": "2025-02-18T02:14:23.372045Z",
          "iopub.status.busy": "2025-02-18T02:14:23.370967Z",
          "iopub.status.idle": "2025-02-18T02:14:23.381775Z",
          "shell.execute_reply": "2025-02-18T02:14:23.382210Z",
          "shell.execute_reply.started": "2025-02-18T02:11:18.085051Z"
        },
        "papermill": {
          "duration": 0.039684,
          "end_time": "2025-02-18T02:14:23.382520",
          "exception": false,
          "start_time": "2025-02-18T02:14:23.342836",
          "status": "completed"
        },
        "tags": [],
        "id": "4ba67ebc",
        "outputId": "95d11d51-84ca-4485-ab4e-ae3b959a9adf"
      },
      "outputs": [
        {
          "name": "stdout",
          "output_type": "stream",
          "text": [
            "/kaggle/input/graduate-admissions/Admission_Predict.csv\n",
            "/kaggle/input/graduate-admissions/Admission_Predict_Ver1.1.csv\n"
          ]
        }
      ],
      "source": [
        "# This Python 3 environment comes with many helpful analytics libraries installed\n",
        "# It is defined by the kaggle/python Docker image: https://github.com/kaggle/docker-python\n",
        "# For example, here's several helpful packages to load\n",
        "\n",
        "import numpy as np # linear algebra\n",
        "import pandas as pd # data processing, CSV file I/O (e.g. pd.read_csv)\n",
        "\n",
        "# Input data files are available in the read-only \"../input/\" directory\n",
        "# For example, running this (by clicking run or pressing Shift+Enter) will list all files under the input directory\n",
        "\n",
        "import os\n",
        "for dirname, _, filenames in os.walk('/kaggle/input'):\n",
        "    for filename in filenames:\n",
        "        print(os.path.join(dirname, filename))\n",
        "\n",
        "# You can write up to 20GB to the current directory (/kaggle/working/) that gets preserved as output when you create a version using \"Save & Run All\"\n",
        "# You can also write temporary files to /kaggle/temp/, but they won't be saved outside of the current session"
      ]
    },
    {
      "cell_type": "code",
      "execution_count": null,
      "id": "0b85a8a3",
      "metadata": {
        "execution": {
          "iopub.execute_input": "2025-02-18T02:14:23.424825Z",
          "iopub.status.busy": "2025-02-18T02:14:23.424114Z",
          "iopub.status.idle": "2025-02-18T02:14:23.440332Z",
          "shell.execute_reply": "2025-02-18T02:14:23.440825Z",
          "shell.execute_reply.started": "2025-02-18T02:11:18.095903Z"
        },
        "papermill": {
          "duration": 0.039474,
          "end_time": "2025-02-18T02:14:23.441006",
          "exception": false,
          "start_time": "2025-02-18T02:14:23.401532",
          "status": "completed"
        },
        "tags": [],
        "id": "0b85a8a3"
      },
      "outputs": [],
      "source": [
        "df = pd.read_csv('/kaggle/input/graduate-admissions/Admission_Predict_Ver1.1.csv')"
      ]
    },
    {
      "cell_type": "code",
      "execution_count": null,
      "id": "4beaa380",
      "metadata": {
        "execution": {
          "iopub.execute_input": "2025-02-18T02:14:23.487084Z",
          "iopub.status.busy": "2025-02-18T02:14:23.486065Z",
          "iopub.status.idle": "2025-02-18T02:14:23.502309Z",
          "shell.execute_reply": "2025-02-18T02:14:23.501825Z",
          "shell.execute_reply.started": "2025-02-18T02:11:18.112540Z"
        },
        "papermill": {
          "duration": 0.043179,
          "end_time": "2025-02-18T02:14:23.502453",
          "exception": false,
          "start_time": "2025-02-18T02:14:23.459274",
          "status": "completed"
        },
        "tags": [],
        "id": "4beaa380",
        "outputId": "4fd7a43c-672a-468f-a506-5a3a8b411d32"
      },
      "outputs": [
        {
          "data": {
            "text/html": [
              "<div>\n",
              "<style scoped>\n",
              "    .dataframe tbody tr th:only-of-type {\n",
              "        vertical-align: middle;\n",
              "    }\n",
              "\n",
              "    .dataframe tbody tr th {\n",
              "        vertical-align: top;\n",
              "    }\n",
              "\n",
              "    .dataframe thead th {\n",
              "        text-align: right;\n",
              "    }\n",
              "</style>\n",
              "<table border=\"1\" class=\"dataframe\">\n",
              "  <thead>\n",
              "    <tr style=\"text-align: right;\">\n",
              "      <th></th>\n",
              "      <th>Serial No.</th>\n",
              "      <th>GRE Score</th>\n",
              "      <th>TOEFL Score</th>\n",
              "      <th>University Rating</th>\n",
              "      <th>SOP</th>\n",
              "      <th>LOR</th>\n",
              "      <th>CGPA</th>\n",
              "      <th>Research</th>\n",
              "      <th>Chance of Admit</th>\n",
              "    </tr>\n",
              "  </thead>\n",
              "  <tbody>\n",
              "    <tr>\n",
              "      <th>0</th>\n",
              "      <td>1</td>\n",
              "      <td>337</td>\n",
              "      <td>118</td>\n",
              "      <td>4</td>\n",
              "      <td>4.5</td>\n",
              "      <td>4.5</td>\n",
              "      <td>9.65</td>\n",
              "      <td>1</td>\n",
              "      <td>0.92</td>\n",
              "    </tr>\n",
              "    <tr>\n",
              "      <th>1</th>\n",
              "      <td>2</td>\n",
              "      <td>324</td>\n",
              "      <td>107</td>\n",
              "      <td>4</td>\n",
              "      <td>4.0</td>\n",
              "      <td>4.5</td>\n",
              "      <td>8.87</td>\n",
              "      <td>1</td>\n",
              "      <td>0.76</td>\n",
              "    </tr>\n",
              "    <tr>\n",
              "      <th>2</th>\n",
              "      <td>3</td>\n",
              "      <td>316</td>\n",
              "      <td>104</td>\n",
              "      <td>3</td>\n",
              "      <td>3.0</td>\n",
              "      <td>3.5</td>\n",
              "      <td>8.00</td>\n",
              "      <td>1</td>\n",
              "      <td>0.72</td>\n",
              "    </tr>\n",
              "    <tr>\n",
              "      <th>3</th>\n",
              "      <td>4</td>\n",
              "      <td>322</td>\n",
              "      <td>110</td>\n",
              "      <td>3</td>\n",
              "      <td>3.5</td>\n",
              "      <td>2.5</td>\n",
              "      <td>8.67</td>\n",
              "      <td>1</td>\n",
              "      <td>0.80</td>\n",
              "    </tr>\n",
              "    <tr>\n",
              "      <th>4</th>\n",
              "      <td>5</td>\n",
              "      <td>314</td>\n",
              "      <td>103</td>\n",
              "      <td>2</td>\n",
              "      <td>2.0</td>\n",
              "      <td>3.0</td>\n",
              "      <td>8.21</td>\n",
              "      <td>0</td>\n",
              "      <td>0.65</td>\n",
              "    </tr>\n",
              "  </tbody>\n",
              "</table>\n",
              "</div>"
            ],
            "text/plain": [
              "   Serial No.  GRE Score  TOEFL Score  University Rating  SOP  LOR   CGPA  \\\n",
              "0           1        337          118                  4  4.5   4.5  9.65   \n",
              "1           2        324          107                  4  4.0   4.5  8.87   \n",
              "2           3        316          104                  3  3.0   3.5  8.00   \n",
              "3           4        322          110                  3  3.5   2.5  8.67   \n",
              "4           5        314          103                  2  2.0   3.0  8.21   \n",
              "\n",
              "   Research  Chance of Admit   \n",
              "0         1              0.92  \n",
              "1         1              0.76  \n",
              "2         1              0.72  \n",
              "3         1              0.80  \n",
              "4         0              0.65  "
            ]
          },
          "execution_count": 3,
          "metadata": {},
          "output_type": "execute_result"
        }
      ],
      "source": [
        "df.head()"
      ]
    },
    {
      "cell_type": "code",
      "execution_count": null,
      "id": "54283d8c",
      "metadata": {
        "execution": {
          "iopub.execute_input": "2025-02-18T02:14:23.546223Z",
          "iopub.status.busy": "2025-02-18T02:14:23.545418Z",
          "iopub.status.idle": "2025-02-18T02:14:23.548936Z",
          "shell.execute_reply": "2025-02-18T02:14:23.548397Z",
          "shell.execute_reply.started": "2025-02-18T02:11:18.133321Z"
        },
        "papermill": {
          "duration": 0.027903,
          "end_time": "2025-02-18T02:14:23.549072",
          "exception": false,
          "start_time": "2025-02-18T02:14:23.521169",
          "status": "completed"
        },
        "tags": [],
        "id": "54283d8c",
        "outputId": "4daf4bbb-f434-4fea-fb29-c004600810c2"
      },
      "outputs": [
        {
          "data": {
            "text/plain": [
              "(500, 9)"
            ]
          },
          "execution_count": 4,
          "metadata": {},
          "output_type": "execute_result"
        }
      ],
      "source": [
        "df.shape"
      ]
    },
    {
      "cell_type": "code",
      "execution_count": null,
      "id": "dafe4832",
      "metadata": {
        "execution": {
          "iopub.execute_input": "2025-02-18T02:14:23.611022Z",
          "iopub.status.busy": "2025-02-18T02:14:23.609964Z",
          "iopub.status.idle": "2025-02-18T02:14:23.614379Z",
          "shell.execute_reply": "2025-02-18T02:14:23.614895Z",
          "shell.execute_reply.started": "2025-02-18T02:11:18.149258Z"
        },
        "papermill": {
          "duration": 0.046832,
          "end_time": "2025-02-18T02:14:23.615067",
          "exception": false,
          "start_time": "2025-02-18T02:14:23.568235",
          "status": "completed"
        },
        "tags": [],
        "id": "dafe4832",
        "outputId": "132d5128-9713-4466-dd4d-3c940202b6c2"
      },
      "outputs": [
        {
          "name": "stdout",
          "output_type": "stream",
          "text": [
            "<class 'pandas.core.frame.DataFrame'>\n",
            "RangeIndex: 500 entries, 0 to 499\n",
            "Data columns (total 9 columns):\n",
            " #   Column             Non-Null Count  Dtype  \n",
            "---  ------             --------------  -----  \n",
            " 0   Serial No.         500 non-null    int64  \n",
            " 1   GRE Score          500 non-null    int64  \n",
            " 2   TOEFL Score        500 non-null    int64  \n",
            " 3   University Rating  500 non-null    int64  \n",
            " 4   SOP                500 non-null    float64\n",
            " 5   LOR                500 non-null    float64\n",
            " 6   CGPA               500 non-null    float64\n",
            " 7   Research           500 non-null    int64  \n",
            " 8   Chance of Admit    500 non-null    float64\n",
            "dtypes: float64(4), int64(5)\n",
            "memory usage: 35.3 KB\n"
          ]
        }
      ],
      "source": [
        "df.info()"
      ]
    },
    {
      "cell_type": "code",
      "execution_count": null,
      "id": "46b8783a",
      "metadata": {
        "execution": {
          "iopub.execute_input": "2025-02-18T02:14:23.667123Z",
          "iopub.status.busy": "2025-02-18T02:14:23.666274Z",
          "iopub.status.idle": "2025-02-18T02:14:23.669543Z",
          "shell.execute_reply": "2025-02-18T02:14:23.670007Z",
          "shell.execute_reply.started": "2025-02-18T02:11:18.170729Z"
        },
        "papermill": {
          "duration": 0.034475,
          "end_time": "2025-02-18T02:14:23.670178",
          "exception": false,
          "start_time": "2025-02-18T02:14:23.635703",
          "status": "completed"
        },
        "tags": [],
        "id": "46b8783a",
        "outputId": "c431a3a3-c5ad-4afc-a282-097fe030cec2"
      },
      "outputs": [
        {
          "data": {
            "text/plain": [
              "0"
            ]
          },
          "execution_count": 6,
          "metadata": {},
          "output_type": "execute_result"
        }
      ],
      "source": [
        "df.duplicated().sum()"
      ]
    },
    {
      "cell_type": "code",
      "execution_count": null,
      "id": "7bb4bb67",
      "metadata": {
        "execution": {
          "iopub.execute_input": "2025-02-18T02:14:23.718031Z",
          "iopub.status.busy": "2025-02-18T02:14:23.717240Z",
          "iopub.status.idle": "2025-02-18T02:14:23.719382Z",
          "shell.execute_reply": "2025-02-18T02:14:23.719806Z",
          "shell.execute_reply.started": "2025-02-18T02:11:18.190863Z"
        },
        "papermill": {
          "duration": 0.029277,
          "end_time": "2025-02-18T02:14:23.719969",
          "exception": false,
          "start_time": "2025-02-18T02:14:23.690692",
          "status": "completed"
        },
        "tags": [],
        "id": "7bb4bb67"
      },
      "outputs": [],
      "source": [
        "df.drop(columns=['Serial No.'],inplace=True)"
      ]
    },
    {
      "cell_type": "code",
      "execution_count": null,
      "id": "37253f65",
      "metadata": {
        "execution": {
          "iopub.execute_input": "2025-02-18T02:14:23.774109Z",
          "iopub.status.busy": "2025-02-18T02:14:23.773263Z",
          "iopub.status.idle": "2025-02-18T02:14:23.777120Z",
          "shell.execute_reply": "2025-02-18T02:14:23.776675Z",
          "shell.execute_reply.started": "2025-02-18T02:11:18.202671Z"
        },
        "papermill": {
          "duration": 0.037646,
          "end_time": "2025-02-18T02:14:23.777253",
          "exception": false,
          "start_time": "2025-02-18T02:14:23.739607",
          "status": "completed"
        },
        "tags": [],
        "id": "37253f65",
        "outputId": "a5380be0-0e9f-4006-a366-8e3f00ba2129"
      },
      "outputs": [
        {
          "data": {
            "text/html": [
              "<div>\n",
              "<style scoped>\n",
              "    .dataframe tbody tr th:only-of-type {\n",
              "        vertical-align: middle;\n",
              "    }\n",
              "\n",
              "    .dataframe tbody tr th {\n",
              "        vertical-align: top;\n",
              "    }\n",
              "\n",
              "    .dataframe thead th {\n",
              "        text-align: right;\n",
              "    }\n",
              "</style>\n",
              "<table border=\"1\" class=\"dataframe\">\n",
              "  <thead>\n",
              "    <tr style=\"text-align: right;\">\n",
              "      <th></th>\n",
              "      <th>GRE Score</th>\n",
              "      <th>TOEFL Score</th>\n",
              "      <th>University Rating</th>\n",
              "      <th>SOP</th>\n",
              "      <th>LOR</th>\n",
              "      <th>CGPA</th>\n",
              "      <th>Research</th>\n",
              "      <th>Chance of Admit</th>\n",
              "    </tr>\n",
              "  </thead>\n",
              "  <tbody>\n",
              "    <tr>\n",
              "      <th>0</th>\n",
              "      <td>337</td>\n",
              "      <td>118</td>\n",
              "      <td>4</td>\n",
              "      <td>4.5</td>\n",
              "      <td>4.5</td>\n",
              "      <td>9.65</td>\n",
              "      <td>1</td>\n",
              "      <td>0.92</td>\n",
              "    </tr>\n",
              "    <tr>\n",
              "      <th>1</th>\n",
              "      <td>324</td>\n",
              "      <td>107</td>\n",
              "      <td>4</td>\n",
              "      <td>4.0</td>\n",
              "      <td>4.5</td>\n",
              "      <td>8.87</td>\n",
              "      <td>1</td>\n",
              "      <td>0.76</td>\n",
              "    </tr>\n",
              "    <tr>\n",
              "      <th>2</th>\n",
              "      <td>316</td>\n",
              "      <td>104</td>\n",
              "      <td>3</td>\n",
              "      <td>3.0</td>\n",
              "      <td>3.5</td>\n",
              "      <td>8.00</td>\n",
              "      <td>1</td>\n",
              "      <td>0.72</td>\n",
              "    </tr>\n",
              "    <tr>\n",
              "      <th>3</th>\n",
              "      <td>322</td>\n",
              "      <td>110</td>\n",
              "      <td>3</td>\n",
              "      <td>3.5</td>\n",
              "      <td>2.5</td>\n",
              "      <td>8.67</td>\n",
              "      <td>1</td>\n",
              "      <td>0.80</td>\n",
              "    </tr>\n",
              "    <tr>\n",
              "      <th>4</th>\n",
              "      <td>314</td>\n",
              "      <td>103</td>\n",
              "      <td>2</td>\n",
              "      <td>2.0</td>\n",
              "      <td>3.0</td>\n",
              "      <td>8.21</td>\n",
              "      <td>0</td>\n",
              "      <td>0.65</td>\n",
              "    </tr>\n",
              "  </tbody>\n",
              "</table>\n",
              "</div>"
            ],
            "text/plain": [
              "   GRE Score  TOEFL Score  University Rating  SOP  LOR   CGPA  Research  \\\n",
              "0        337          118                  4  4.5   4.5  9.65         1   \n",
              "1        324          107                  4  4.0   4.5  8.87         1   \n",
              "2        316          104                  3  3.0   3.5  8.00         1   \n",
              "3        322          110                  3  3.5   2.5  8.67         1   \n",
              "4        314          103                  2  2.0   3.0  8.21         0   \n",
              "\n",
              "   Chance of Admit   \n",
              "0              0.92  \n",
              "1              0.76  \n",
              "2              0.72  \n",
              "3              0.80  \n",
              "4              0.65  "
            ]
          },
          "execution_count": 8,
          "metadata": {},
          "output_type": "execute_result"
        }
      ],
      "source": [
        "df.head()"
      ]
    },
    {
      "cell_type": "code",
      "execution_count": null,
      "id": "9500397c",
      "metadata": {
        "execution": {
          "iopub.execute_input": "2025-02-18T02:14:23.823778Z",
          "iopub.status.busy": "2025-02-18T02:14:23.823042Z",
          "iopub.status.idle": "2025-02-18T02:14:23.825817Z",
          "shell.execute_reply": "2025-02-18T02:14:23.825214Z",
          "shell.execute_reply.started": "2025-02-18T02:11:18.225155Z"
        },
        "papermill": {
          "duration": 0.028625,
          "end_time": "2025-02-18T02:14:23.825948",
          "exception": false,
          "start_time": "2025-02-18T02:14:23.797323",
          "status": "completed"
        },
        "tags": [],
        "id": "9500397c"
      },
      "outputs": [],
      "source": [
        "X = df.iloc[:,0:-1]\n",
        "y = df.iloc[:,-1]"
      ]
    },
    {
      "cell_type": "code",
      "execution_count": null,
      "id": "03f71f00",
      "metadata": {
        "execution": {
          "iopub.execute_input": "2025-02-18T02:14:23.883491Z",
          "iopub.status.busy": "2025-02-18T02:14:23.882825Z",
          "iopub.status.idle": "2025-02-18T02:14:23.886549Z",
          "shell.execute_reply": "2025-02-18T02:14:23.886038Z",
          "shell.execute_reply.started": "2025-02-18T02:11:18.237186Z"
        },
        "papermill": {
          "duration": 0.040145,
          "end_time": "2025-02-18T02:14:23.886760",
          "exception": false,
          "start_time": "2025-02-18T02:14:23.846615",
          "status": "completed"
        },
        "tags": [],
        "id": "03f71f00",
        "outputId": "c71ac84e-63d3-4d7e-e50c-375d74f316d7"
      },
      "outputs": [
        {
          "data": {
            "text/html": [
              "<div>\n",
              "<style scoped>\n",
              "    .dataframe tbody tr th:only-of-type {\n",
              "        vertical-align: middle;\n",
              "    }\n",
              "\n",
              "    .dataframe tbody tr th {\n",
              "        vertical-align: top;\n",
              "    }\n",
              "\n",
              "    .dataframe thead th {\n",
              "        text-align: right;\n",
              "    }\n",
              "</style>\n",
              "<table border=\"1\" class=\"dataframe\">\n",
              "  <thead>\n",
              "    <tr style=\"text-align: right;\">\n",
              "      <th></th>\n",
              "      <th>GRE Score</th>\n",
              "      <th>TOEFL Score</th>\n",
              "      <th>University Rating</th>\n",
              "      <th>SOP</th>\n",
              "      <th>LOR</th>\n",
              "      <th>CGPA</th>\n",
              "      <th>Research</th>\n",
              "    </tr>\n",
              "  </thead>\n",
              "  <tbody>\n",
              "    <tr>\n",
              "      <th>0</th>\n",
              "      <td>337</td>\n",
              "      <td>118</td>\n",
              "      <td>4</td>\n",
              "      <td>4.5</td>\n",
              "      <td>4.5</td>\n",
              "      <td>9.65</td>\n",
              "      <td>1</td>\n",
              "    </tr>\n",
              "    <tr>\n",
              "      <th>1</th>\n",
              "      <td>324</td>\n",
              "      <td>107</td>\n",
              "      <td>4</td>\n",
              "      <td>4.0</td>\n",
              "      <td>4.5</td>\n",
              "      <td>8.87</td>\n",
              "      <td>1</td>\n",
              "    </tr>\n",
              "    <tr>\n",
              "      <th>2</th>\n",
              "      <td>316</td>\n",
              "      <td>104</td>\n",
              "      <td>3</td>\n",
              "      <td>3.0</td>\n",
              "      <td>3.5</td>\n",
              "      <td>8.00</td>\n",
              "      <td>1</td>\n",
              "    </tr>\n",
              "    <tr>\n",
              "      <th>3</th>\n",
              "      <td>322</td>\n",
              "      <td>110</td>\n",
              "      <td>3</td>\n",
              "      <td>3.5</td>\n",
              "      <td>2.5</td>\n",
              "      <td>8.67</td>\n",
              "      <td>1</td>\n",
              "    </tr>\n",
              "    <tr>\n",
              "      <th>4</th>\n",
              "      <td>314</td>\n",
              "      <td>103</td>\n",
              "      <td>2</td>\n",
              "      <td>2.0</td>\n",
              "      <td>3.0</td>\n",
              "      <td>8.21</td>\n",
              "      <td>0</td>\n",
              "    </tr>\n",
              "    <tr>\n",
              "      <th>...</th>\n",
              "      <td>...</td>\n",
              "      <td>...</td>\n",
              "      <td>...</td>\n",
              "      <td>...</td>\n",
              "      <td>...</td>\n",
              "      <td>...</td>\n",
              "      <td>...</td>\n",
              "    </tr>\n",
              "    <tr>\n",
              "      <th>495</th>\n",
              "      <td>332</td>\n",
              "      <td>108</td>\n",
              "      <td>5</td>\n",
              "      <td>4.5</td>\n",
              "      <td>4.0</td>\n",
              "      <td>9.02</td>\n",
              "      <td>1</td>\n",
              "    </tr>\n",
              "    <tr>\n",
              "      <th>496</th>\n",
              "      <td>337</td>\n",
              "      <td>117</td>\n",
              "      <td>5</td>\n",
              "      <td>5.0</td>\n",
              "      <td>5.0</td>\n",
              "      <td>9.87</td>\n",
              "      <td>1</td>\n",
              "    </tr>\n",
              "    <tr>\n",
              "      <th>497</th>\n",
              "      <td>330</td>\n",
              "      <td>120</td>\n",
              "      <td>5</td>\n",
              "      <td>4.5</td>\n",
              "      <td>5.0</td>\n",
              "      <td>9.56</td>\n",
              "      <td>1</td>\n",
              "    </tr>\n",
              "    <tr>\n",
              "      <th>498</th>\n",
              "      <td>312</td>\n",
              "      <td>103</td>\n",
              "      <td>4</td>\n",
              "      <td>4.0</td>\n",
              "      <td>5.0</td>\n",
              "      <td>8.43</td>\n",
              "      <td>0</td>\n",
              "    </tr>\n",
              "    <tr>\n",
              "      <th>499</th>\n",
              "      <td>327</td>\n",
              "      <td>113</td>\n",
              "      <td>4</td>\n",
              "      <td>4.5</td>\n",
              "      <td>4.5</td>\n",
              "      <td>9.04</td>\n",
              "      <td>0</td>\n",
              "    </tr>\n",
              "  </tbody>\n",
              "</table>\n",
              "<p>500 rows × 7 columns</p>\n",
              "</div>"
            ],
            "text/plain": [
              "     GRE Score  TOEFL Score  University Rating  SOP  LOR   CGPA  Research\n",
              "0          337          118                  4  4.5   4.5  9.65         1\n",
              "1          324          107                  4  4.0   4.5  8.87         1\n",
              "2          316          104                  3  3.0   3.5  8.00         1\n",
              "3          322          110                  3  3.5   2.5  8.67         1\n",
              "4          314          103                  2  2.0   3.0  8.21         0\n",
              "..         ...          ...                ...  ...   ...   ...       ...\n",
              "495        332          108                  5  4.5   4.0  9.02         1\n",
              "496        337          117                  5  5.0   5.0  9.87         1\n",
              "497        330          120                  5  4.5   5.0  9.56         1\n",
              "498        312          103                  4  4.0   5.0  8.43         0\n",
              "499        327          113                  4  4.5   4.5  9.04         0\n",
              "\n",
              "[500 rows x 7 columns]"
            ]
          },
          "execution_count": 10,
          "metadata": {},
          "output_type": "execute_result"
        }
      ],
      "source": [
        "X"
      ]
    },
    {
      "cell_type": "code",
      "execution_count": null,
      "id": "6c0dacbd",
      "metadata": {
        "execution": {
          "iopub.execute_input": "2025-02-18T02:14:23.940539Z",
          "iopub.status.busy": "2025-02-18T02:14:23.939686Z",
          "iopub.status.idle": "2025-02-18T02:14:23.943899Z",
          "shell.execute_reply": "2025-02-18T02:14:23.943259Z",
          "shell.execute_reply.started": "2025-02-18T02:11:18.288835Z"
        },
        "papermill": {
          "duration": 0.035973,
          "end_time": "2025-02-18T02:14:23.944039",
          "exception": false,
          "start_time": "2025-02-18T02:14:23.908066",
          "status": "completed"
        },
        "tags": [],
        "id": "6c0dacbd",
        "outputId": "7dd8558c-7196-4b57-a736-7812ab1976dd"
      },
      "outputs": [
        {
          "data": {
            "text/plain": [
              "0      0.92\n",
              "1      0.76\n",
              "2      0.72\n",
              "3      0.80\n",
              "4      0.65\n",
              "       ... \n",
              "495    0.87\n",
              "496    0.96\n",
              "497    0.93\n",
              "498    0.73\n",
              "499    0.84\n",
              "Name: Chance of Admit , Length: 500, dtype: float64"
            ]
          },
          "execution_count": 11,
          "metadata": {},
          "output_type": "execute_result"
        }
      ],
      "source": [
        "y"
      ]
    },
    {
      "cell_type": "code",
      "execution_count": null,
      "id": "26549ea5",
      "metadata": {
        "execution": {
          "iopub.execute_input": "2025-02-18T02:14:23.991971Z",
          "iopub.status.busy": "2025-02-18T02:14:23.991371Z",
          "iopub.status.idle": "2025-02-18T02:14:25.082065Z",
          "shell.execute_reply": "2025-02-18T02:14:25.081413Z",
          "shell.execute_reply.started": "2025-02-18T02:11:18.300175Z"
        },
        "papermill": {
          "duration": 1.116322,
          "end_time": "2025-02-18T02:14:25.082207",
          "exception": false,
          "start_time": "2025-02-18T02:14:23.965885",
          "status": "completed"
        },
        "tags": [],
        "id": "26549ea5"
      },
      "outputs": [],
      "source": [
        "from sklearn.model_selection import train_test_split\n",
        "X_train,X_test,y_train,y_test = train_test_split(X,y,test_size=0.2,random_state=1)"
      ]
    },
    {
      "cell_type": "code",
      "execution_count": null,
      "id": "1e4beb27",
      "metadata": {
        "execution": {
          "iopub.execute_input": "2025-02-18T02:14:25.141995Z",
          "iopub.status.busy": "2025-02-18T02:14:25.141161Z",
          "iopub.status.idle": "2025-02-18T02:14:25.145122Z",
          "shell.execute_reply": "2025-02-18T02:14:25.144537Z",
          "shell.execute_reply.started": "2025-02-18T02:11:18.309909Z"
        },
        "papermill": {
          "duration": 0.041894,
          "end_time": "2025-02-18T02:14:25.145250",
          "exception": false,
          "start_time": "2025-02-18T02:14:25.103356",
          "status": "completed"
        },
        "tags": [],
        "id": "1e4beb27",
        "outputId": "889d01b0-5941-4f5d-e4dc-62ca6ddf6c8f"
      },
      "outputs": [
        {
          "data": {
            "text/html": [
              "<div>\n",
              "<style scoped>\n",
              "    .dataframe tbody tr th:only-of-type {\n",
              "        vertical-align: middle;\n",
              "    }\n",
              "\n",
              "    .dataframe tbody tr th {\n",
              "        vertical-align: top;\n",
              "    }\n",
              "\n",
              "    .dataframe thead th {\n",
              "        text-align: right;\n",
              "    }\n",
              "</style>\n",
              "<table border=\"1\" class=\"dataframe\">\n",
              "  <thead>\n",
              "    <tr style=\"text-align: right;\">\n",
              "      <th></th>\n",
              "      <th>GRE Score</th>\n",
              "      <th>TOEFL Score</th>\n",
              "      <th>University Rating</th>\n",
              "      <th>SOP</th>\n",
              "      <th>LOR</th>\n",
              "      <th>CGPA</th>\n",
              "      <th>Research</th>\n",
              "    </tr>\n",
              "  </thead>\n",
              "  <tbody>\n",
              "    <tr>\n",
              "      <th>238</th>\n",
              "      <td>310</td>\n",
              "      <td>104</td>\n",
              "      <td>3</td>\n",
              "      <td>2.0</td>\n",
              "      <td>3.5</td>\n",
              "      <td>8.37</td>\n",
              "      <td>0</td>\n",
              "    </tr>\n",
              "    <tr>\n",
              "      <th>438</th>\n",
              "      <td>318</td>\n",
              "      <td>110</td>\n",
              "      <td>1</td>\n",
              "      <td>2.5</td>\n",
              "      <td>3.5</td>\n",
              "      <td>8.54</td>\n",
              "      <td>1</td>\n",
              "    </tr>\n",
              "    <tr>\n",
              "      <th>475</th>\n",
              "      <td>300</td>\n",
              "      <td>101</td>\n",
              "      <td>3</td>\n",
              "      <td>3.5</td>\n",
              "      <td>2.5</td>\n",
              "      <td>7.88</td>\n",
              "      <td>0</td>\n",
              "    </tr>\n",
              "    <tr>\n",
              "      <th>58</th>\n",
              "      <td>300</td>\n",
              "      <td>99</td>\n",
              "      <td>1</td>\n",
              "      <td>3.0</td>\n",
              "      <td>2.0</td>\n",
              "      <td>6.80</td>\n",
              "      <td>1</td>\n",
              "    </tr>\n",
              "    <tr>\n",
              "      <th>380</th>\n",
              "      <td>322</td>\n",
              "      <td>104</td>\n",
              "      <td>3</td>\n",
              "      <td>3.5</td>\n",
              "      <td>4.0</td>\n",
              "      <td>8.84</td>\n",
              "      <td>1</td>\n",
              "    </tr>\n",
              "    <tr>\n",
              "      <th>...</th>\n",
              "      <td>...</td>\n",
              "      <td>...</td>\n",
              "      <td>...</td>\n",
              "      <td>...</td>\n",
              "      <td>...</td>\n",
              "      <td>...</td>\n",
              "      <td>...</td>\n",
              "    </tr>\n",
              "    <tr>\n",
              "      <th>255</th>\n",
              "      <td>307</td>\n",
              "      <td>110</td>\n",
              "      <td>4</td>\n",
              "      <td>4.0</td>\n",
              "      <td>4.5</td>\n",
              "      <td>8.37</td>\n",
              "      <td>0</td>\n",
              "    </tr>\n",
              "    <tr>\n",
              "      <th>72</th>\n",
              "      <td>321</td>\n",
              "      <td>111</td>\n",
              "      <td>5</td>\n",
              "      <td>5.0</td>\n",
              "      <td>5.0</td>\n",
              "      <td>9.45</td>\n",
              "      <td>1</td>\n",
              "    </tr>\n",
              "    <tr>\n",
              "      <th>396</th>\n",
              "      <td>325</td>\n",
              "      <td>107</td>\n",
              "      <td>3</td>\n",
              "      <td>3.0</td>\n",
              "      <td>3.5</td>\n",
              "      <td>9.11</td>\n",
              "      <td>1</td>\n",
              "    </tr>\n",
              "    <tr>\n",
              "      <th>235</th>\n",
              "      <td>326</td>\n",
              "      <td>111</td>\n",
              "      <td>5</td>\n",
              "      <td>4.5</td>\n",
              "      <td>4.0</td>\n",
              "      <td>9.23</td>\n",
              "      <td>1</td>\n",
              "    </tr>\n",
              "    <tr>\n",
              "      <th>37</th>\n",
              "      <td>300</td>\n",
              "      <td>105</td>\n",
              "      <td>1</td>\n",
              "      <td>1.0</td>\n",
              "      <td>2.0</td>\n",
              "      <td>7.80</td>\n",
              "      <td>0</td>\n",
              "    </tr>\n",
              "  </tbody>\n",
              "</table>\n",
              "<p>400 rows × 7 columns</p>\n",
              "</div>"
            ],
            "text/plain": [
              "     GRE Score  TOEFL Score  University Rating  SOP  LOR   CGPA  Research\n",
              "238        310          104                  3  2.0   3.5  8.37         0\n",
              "438        318          110                  1  2.5   3.5  8.54         1\n",
              "475        300          101                  3  3.5   2.5  7.88         0\n",
              "58         300           99                  1  3.0   2.0  6.80         1\n",
              "380        322          104                  3  3.5   4.0  8.84         1\n",
              "..         ...          ...                ...  ...   ...   ...       ...\n",
              "255        307          110                  4  4.0   4.5  8.37         0\n",
              "72         321          111                  5  5.0   5.0  9.45         1\n",
              "396        325          107                  3  3.0   3.5  9.11         1\n",
              "235        326          111                  5  4.5   4.0  9.23         1\n",
              "37         300          105                  1  1.0   2.0  7.80         0\n",
              "\n",
              "[400 rows x 7 columns]"
            ]
          },
          "execution_count": 13,
          "metadata": {},
          "output_type": "execute_result"
        }
      ],
      "source": [
        "X_train"
      ]
    },
    {
      "cell_type": "code",
      "execution_count": null,
      "id": "90b19d81",
      "metadata": {
        "execution": {
          "iopub.execute_input": "2025-02-18T02:14:25.200739Z",
          "iopub.status.busy": "2025-02-18T02:14:25.196787Z",
          "iopub.status.idle": "2025-02-18T02:14:25.203686Z",
          "shell.execute_reply": "2025-02-18T02:14:25.203068Z",
          "shell.execute_reply.started": "2025-02-18T02:11:18.582281Z"
        },
        "papermill": {
          "duration": 0.035662,
          "end_time": "2025-02-18T02:14:25.203822",
          "exception": false,
          "start_time": "2025-02-18T02:14:25.168160",
          "status": "completed"
        },
        "tags": [],
        "id": "90b19d81"
      },
      "outputs": [],
      "source": [
        "from sklearn.preprocessing import MinMaxScaler\n",
        "scaler = MinMaxScaler()\n",
        "\n",
        "X_train_scaled = scaler.fit_transform(X_train)\n",
        "X_test_scaled = scaler.transform(X_test)"
      ]
    },
    {
      "cell_type": "code",
      "execution_count": null,
      "id": "8f1bfacc",
      "metadata": {
        "execution": {
          "iopub.execute_input": "2025-02-18T02:14:25.254105Z",
          "iopub.status.busy": "2025-02-18T02:14:25.253191Z",
          "iopub.status.idle": "2025-02-18T02:14:25.256411Z",
          "shell.execute_reply": "2025-02-18T02:14:25.256919Z",
          "shell.execute_reply.started": "2025-02-18T02:11:18.596744Z"
        },
        "papermill": {
          "duration": 0.031424,
          "end_time": "2025-02-18T02:14:25.257086",
          "exception": false,
          "start_time": "2025-02-18T02:14:25.225662",
          "status": "completed"
        },
        "tags": [],
        "id": "8f1bfacc",
        "outputId": "45df638a-41cd-4fe2-ec4f-c10d01cca5e6"
      },
      "outputs": [
        {
          "data": {
            "text/plain": [
              "array([[0.4       , 0.42857143, 0.5       , ..., 0.57142857, 0.50320513,\n",
              "        0.        ],\n",
              "       [0.56      , 0.64285714, 0.        , ..., 0.57142857, 0.55769231,\n",
              "        1.        ],\n",
              "       [0.2       , 0.32142857, 0.5       , ..., 0.28571429, 0.34615385,\n",
              "        0.        ],\n",
              "       ...,\n",
              "       [0.7       , 0.53571429, 0.5       , ..., 0.57142857, 0.74038462,\n",
              "        1.        ],\n",
              "       [0.72      , 0.67857143, 1.        , ..., 0.71428571, 0.77884615,\n",
              "        1.        ],\n",
              "       [0.2       , 0.46428571, 0.        , ..., 0.14285714, 0.32051282,\n",
              "        0.        ]])"
            ]
          },
          "execution_count": 15,
          "metadata": {},
          "output_type": "execute_result"
        }
      ],
      "source": [
        "X_train_scaled"
      ]
    },
    {
      "cell_type": "code",
      "execution_count": null,
      "id": "025ca576",
      "metadata": {
        "execution": {
          "iopub.execute_input": "2025-02-18T02:14:25.306478Z",
          "iopub.status.busy": "2025-02-18T02:14:25.305759Z",
          "iopub.status.idle": "2025-02-18T02:14:31.144388Z",
          "shell.execute_reply": "2025-02-18T02:14:31.143794Z",
          "shell.execute_reply.started": "2025-02-18T02:11:18.611132Z"
        },
        "papermill": {
          "duration": 5.865203,
          "end_time": "2025-02-18T02:14:31.144524",
          "exception": false,
          "start_time": "2025-02-18T02:14:25.279321",
          "status": "completed"
        },
        "tags": [],
        "id": "025ca576"
      },
      "outputs": [],
      "source": [
        "import tensorflow\n",
        "from tensorflow import keras\n",
        "from keras import Sequential\n",
        "from keras.layers import Dense"
      ]
    },
    {
      "cell_type": "code",
      "execution_count": null,
      "id": "ed9f68f6",
      "metadata": {
        "execution": {
          "iopub.execute_input": "2025-02-18T02:14:31.200094Z",
          "iopub.status.busy": "2025-02-18T02:14:31.199079Z",
          "iopub.status.idle": "2025-02-18T02:14:31.322426Z",
          "shell.execute_reply": "2025-02-18T02:14:31.321834Z",
          "shell.execute_reply.started": "2025-02-18T02:11:18.623978Z"
        },
        "papermill": {
          "duration": 0.154936,
          "end_time": "2025-02-18T02:14:31.322623",
          "exception": false,
          "start_time": "2025-02-18T02:14:31.167687",
          "status": "completed"
        },
        "tags": [],
        "id": "ed9f68f6"
      },
      "outputs": [],
      "source": [
        "model=Sequential()\n",
        "\n",
        "model.add(Dense(10,activation='relu',input_dim=7))\n",
        "model.add(Dense(7,activation='relu'))\n",
        "model.add(Dense(1,activation=\"linear\"))"
      ]
    },
    {
      "cell_type": "code",
      "execution_count": null,
      "id": "c79be3ed",
      "metadata": {
        "execution": {
          "iopub.execute_input": "2025-02-18T02:14:31.395194Z",
          "iopub.status.busy": "2025-02-18T02:14:31.393135Z",
          "iopub.status.idle": "2025-02-18T02:14:31.401714Z",
          "shell.execute_reply": "2025-02-18T02:14:31.400852Z",
          "shell.execute_reply.started": "2025-02-18T02:11:18.668553Z"
        },
        "papermill": {
          "duration": 0.040284,
          "end_time": "2025-02-18T02:14:31.401899",
          "exception": false,
          "start_time": "2025-02-18T02:14:31.361615",
          "status": "completed"
        },
        "tags": [],
        "id": "c79be3ed",
        "outputId": "92c72e50-0cb5-4a29-f1f7-ec517da126c5"
      },
      "outputs": [
        {
          "name": "stdout",
          "output_type": "stream",
          "text": [
            "Model: \"sequential\"\n",
            "_________________________________________________________________\n",
            "Layer (type)                 Output Shape              Param #   \n",
            "=================================================================\n",
            "dense (Dense)                (None, 10)                80        \n",
            "_________________________________________________________________\n",
            "dense_1 (Dense)              (None, 7)                 77        \n",
            "_________________________________________________________________\n",
            "dense_2 (Dense)              (None, 1)                 8         \n",
            "=================================================================\n",
            "Total params: 165\n",
            "Trainable params: 165\n",
            "Non-trainable params: 0\n",
            "_________________________________________________________________\n"
          ]
        }
      ],
      "source": [
        "model.summary()"
      ]
    },
    {
      "cell_type": "code",
      "execution_count": null,
      "id": "7f211724",
      "metadata": {
        "execution": {
          "iopub.execute_input": "2025-02-18T02:14:31.458877Z",
          "iopub.status.busy": "2025-02-18T02:14:31.457948Z",
          "iopub.status.idle": "2025-02-18T02:14:31.468782Z",
          "shell.execute_reply": "2025-02-18T02:14:31.468155Z",
          "shell.execute_reply.started": "2025-02-18T02:11:18.679986Z"
        },
        "papermill": {
          "duration": 0.039124,
          "end_time": "2025-02-18T02:14:31.468926",
          "exception": false,
          "start_time": "2025-02-18T02:14:31.429802",
          "status": "completed"
        },
        "tags": [],
        "id": "7f211724"
      },
      "outputs": [],
      "source": [
        "model.compile(loss='mean_squared_error',optimizer='Adam')"
      ]
    },
    {
      "cell_type": "code",
      "execution_count": null,
      "id": "323fa835",
      "metadata": {
        "execution": {
          "iopub.execute_input": "2025-02-18T02:14:31.520854Z",
          "iopub.status.busy": "2025-02-18T02:14:31.519817Z",
          "iopub.status.idle": "2025-02-18T02:14:37.352740Z",
          "shell.execute_reply": "2025-02-18T02:14:37.353220Z",
          "shell.execute_reply.started": "2025-02-18T02:11:18.700838Z"
        },
        "papermill": {
          "duration": 5.861357,
          "end_time": "2025-02-18T02:14:37.353388",
          "exception": false,
          "start_time": "2025-02-18T02:14:31.492031",
          "status": "completed"
        },
        "tags": [],
        "id": "323fa835",
        "outputId": "a7af26f4-b008-4b93-8d89-0291a64eb438"
      },
      "outputs": [
        {
          "name": "stdout",
          "output_type": "stream",
          "text": [
            "Epoch 1/100\n",
            "10/10 [==============================] - 1s 21ms/step - loss: 0.7293 - val_loss: 0.7581\n",
            "Epoch 2/100\n",
            "10/10 [==============================] - 0s 5ms/step - loss: 0.6605 - val_loss: 0.6917\n",
            "Epoch 3/100\n",
            "10/10 [==============================] - 0s 5ms/step - loss: 0.6042 - val_loss: 0.6352\n",
            "Epoch 4/100\n",
            "10/10 [==============================] - 0s 5ms/step - loss: 0.5541 - val_loss: 0.5846\n",
            "Epoch 5/100\n",
            "10/10 [==============================] - 0s 5ms/step - loss: 0.5105 - val_loss: 0.5368\n",
            "Epoch 6/100\n",
            "10/10 [==============================] - 0s 5ms/step - loss: 0.4684 - val_loss: 0.4893\n",
            "Epoch 7/100\n",
            "10/10 [==============================] - 0s 5ms/step - loss: 0.4229 - val_loss: 0.4261\n",
            "Epoch 8/100\n",
            "10/10 [==============================] - 0s 5ms/step - loss: 0.3492 - val_loss: 0.3257\n",
            "Epoch 9/100\n",
            "10/10 [==============================] - 0s 5ms/step - loss: 0.2504 - val_loss: 0.2179\n",
            "Epoch 10/100\n",
            "10/10 [==============================] - 0s 5ms/step - loss: 0.1591 - val_loss: 0.1257\n",
            "Epoch 11/100\n",
            "10/10 [==============================] - 0s 5ms/step - loss: 0.0853 - val_loss: 0.0618\n",
            "Epoch 12/100\n",
            "10/10 [==============================] - 0s 5ms/step - loss: 0.0398 - val_loss: 0.0257\n",
            "Epoch 13/100\n",
            "10/10 [==============================] - 0s 5ms/step - loss: 0.0188 - val_loss: 0.0127\n",
            "Epoch 14/100\n",
            "10/10 [==============================] - 0s 5ms/step - loss: 0.0138 - val_loss: 0.0109\n",
            "Epoch 15/100\n",
            "10/10 [==============================] - 0s 5ms/step - loss: 0.0126 - val_loss: 0.0101\n",
            "Epoch 16/100\n",
            "10/10 [==============================] - 0s 5ms/step - loss: 0.0115 - val_loss: 0.0098\n",
            "Epoch 17/100\n",
            "10/10 [==============================] - 0s 5ms/step - loss: 0.0109 - val_loss: 0.0096\n",
            "Epoch 18/100\n",
            "10/10 [==============================] - 0s 5ms/step - loss: 0.0105 - val_loss: 0.0095\n",
            "Epoch 19/100\n",
            "10/10 [==============================] - 0s 5ms/step - loss: 0.0103 - val_loss: 0.0093\n",
            "Epoch 20/100\n",
            "10/10 [==============================] - 0s 5ms/step - loss: 0.0100 - val_loss: 0.0091\n",
            "Epoch 21/100\n",
            "10/10 [==============================] - 0s 6ms/step - loss: 0.0097 - val_loss: 0.0088\n",
            "Epoch 22/100\n",
            "10/10 [==============================] - 0s 5ms/step - loss: 0.0094 - val_loss: 0.0084\n",
            "Epoch 23/100\n",
            "10/10 [==============================] - 0s 5ms/step - loss: 0.0090 - val_loss: 0.0078\n",
            "Epoch 24/100\n",
            "10/10 [==============================] - 0s 5ms/step - loss: 0.0085 - val_loss: 0.0071\n",
            "Epoch 25/100\n",
            "10/10 [==============================] - 0s 5ms/step - loss: 0.0080 - val_loss: 0.0065\n",
            "Epoch 26/100\n",
            "10/10 [==============================] - 0s 5ms/step - loss: 0.0074 - val_loss: 0.0059\n",
            "Epoch 27/100\n",
            "10/10 [==============================] - 0s 5ms/step - loss: 0.0068 - val_loss: 0.0053\n",
            "Epoch 28/100\n",
            "10/10 [==============================] - 0s 5ms/step - loss: 0.0062 - val_loss: 0.0050\n",
            "Epoch 29/100\n",
            "10/10 [==============================] - 0s 5ms/step - loss: 0.0058 - val_loss: 0.0047\n",
            "Epoch 30/100\n",
            "10/10 [==============================] - 0s 5ms/step - loss: 0.0054 - val_loss: 0.0044\n",
            "Epoch 31/100\n",
            "10/10 [==============================] - 0s 5ms/step - loss: 0.0051 - val_loss: 0.0043\n",
            "Epoch 32/100\n",
            "10/10 [==============================] - 0s 5ms/step - loss: 0.0049 - val_loss: 0.0041\n",
            "Epoch 33/100\n",
            "10/10 [==============================] - 0s 5ms/step - loss: 0.0048 - val_loss: 0.0040\n",
            "Epoch 34/100\n",
            "10/10 [==============================] - 0s 5ms/step - loss: 0.0047 - val_loss: 0.0039\n",
            "Epoch 35/100\n",
            "10/10 [==============================] - 0s 5ms/step - loss: 0.0046 - val_loss: 0.0038\n",
            "Epoch 36/100\n",
            "10/10 [==============================] - 0s 5ms/step - loss: 0.0045 - val_loss: 0.0038\n",
            "Epoch 37/100\n",
            "10/10 [==============================] - 0s 5ms/step - loss: 0.0044 - val_loss: 0.0038\n",
            "Epoch 38/100\n",
            "10/10 [==============================] - 0s 5ms/step - loss: 0.0043 - val_loss: 0.0037\n",
            "Epoch 39/100\n",
            "10/10 [==============================] - 0s 5ms/step - loss: 0.0043 - val_loss: 0.0037\n",
            "Epoch 40/100\n",
            "10/10 [==============================] - 0s 5ms/step - loss: 0.0043 - val_loss: 0.0036\n",
            "Epoch 41/100\n",
            "10/10 [==============================] - 0s 5ms/step - loss: 0.0042 - val_loss: 0.0037\n",
            "Epoch 42/100\n",
            "10/10 [==============================] - 0s 5ms/step - loss: 0.0042 - val_loss: 0.0036\n",
            "Epoch 43/100\n",
            "10/10 [==============================] - 0s 5ms/step - loss: 0.0041 - val_loss: 0.0036\n",
            "Epoch 44/100\n",
            "10/10 [==============================] - 0s 5ms/step - loss: 0.0041 - val_loss: 0.0037\n",
            "Epoch 45/100\n",
            "10/10 [==============================] - 0s 5ms/step - loss: 0.0041 - val_loss: 0.0036\n",
            "Epoch 46/100\n",
            "10/10 [==============================] - 0s 5ms/step - loss: 0.0040 - val_loss: 0.0036\n",
            "Epoch 47/100\n",
            "10/10 [==============================] - 0s 5ms/step - loss: 0.0040 - val_loss: 0.0036\n",
            "Epoch 48/100\n",
            "10/10 [==============================] - 0s 5ms/step - loss: 0.0040 - val_loss: 0.0036\n",
            "Epoch 49/100\n",
            "10/10 [==============================] - 0s 5ms/step - loss: 0.0040 - val_loss: 0.0036\n",
            "Epoch 50/100\n",
            "10/10 [==============================] - 0s 5ms/step - loss: 0.0039 - val_loss: 0.0036\n",
            "Epoch 51/100\n",
            "10/10 [==============================] - 0s 5ms/step - loss: 0.0039 - val_loss: 0.0036\n",
            "Epoch 52/100\n",
            "10/10 [==============================] - 0s 5ms/step - loss: 0.0039 - val_loss: 0.0035\n",
            "Epoch 53/100\n",
            "10/10 [==============================] - 0s 5ms/step - loss: 0.0039 - val_loss: 0.0036\n",
            "Epoch 54/100\n",
            "10/10 [==============================] - 0s 5ms/step - loss: 0.0039 - val_loss: 0.0035\n",
            "Epoch 55/100\n",
            "10/10 [==============================] - 0s 5ms/step - loss: 0.0038 - val_loss: 0.0035\n",
            "Epoch 56/100\n",
            "10/10 [==============================] - 0s 5ms/step - loss: 0.0038 - val_loss: 0.0035\n",
            "Epoch 57/100\n",
            "10/10 [==============================] - 0s 5ms/step - loss: 0.0038 - val_loss: 0.0035\n",
            "Epoch 58/100\n",
            "10/10 [==============================] - 0s 5ms/step - loss: 0.0038 - val_loss: 0.0035\n",
            "Epoch 59/100\n",
            "10/10 [==============================] - 0s 5ms/step - loss: 0.0038 - val_loss: 0.0035\n",
            "Epoch 60/100\n",
            "10/10 [==============================] - 0s 5ms/step - loss: 0.0038 - val_loss: 0.0035\n",
            "Epoch 61/100\n",
            "10/10 [==============================] - 0s 5ms/step - loss: 0.0038 - val_loss: 0.0035\n",
            "Epoch 62/100\n",
            "10/10 [==============================] - 0s 5ms/step - loss: 0.0037 - val_loss: 0.0035\n",
            "Epoch 63/100\n",
            "10/10 [==============================] - 0s 5ms/step - loss: 0.0037 - val_loss: 0.0035\n",
            "Epoch 64/100\n",
            "10/10 [==============================] - 0s 5ms/step - loss: 0.0037 - val_loss: 0.0035\n",
            "Epoch 65/100\n",
            "10/10 [==============================] - 0s 5ms/step - loss: 0.0037 - val_loss: 0.0035\n",
            "Epoch 66/100\n",
            "10/10 [==============================] - 0s 5ms/step - loss: 0.0037 - val_loss: 0.0035\n",
            "Epoch 67/100\n",
            "10/10 [==============================] - 0s 5ms/step - loss: 0.0037 - val_loss: 0.0035\n",
            "Epoch 68/100\n",
            "10/10 [==============================] - 0s 5ms/step - loss: 0.0037 - val_loss: 0.0035\n",
            "Epoch 69/100\n",
            "10/10 [==============================] - 0s 5ms/step - loss: 0.0037 - val_loss: 0.0035\n",
            "Epoch 70/100\n",
            "10/10 [==============================] - 0s 5ms/step - loss: 0.0037 - val_loss: 0.0035\n",
            "Epoch 71/100\n",
            "10/10 [==============================] - 0s 5ms/step - loss: 0.0037 - val_loss: 0.0035\n",
            "Epoch 72/100\n",
            "10/10 [==============================] - 0s 5ms/step - loss: 0.0037 - val_loss: 0.0035\n",
            "Epoch 73/100\n",
            "10/10 [==============================] - 0s 5ms/step - loss: 0.0037 - val_loss: 0.0035\n",
            "Epoch 74/100\n",
            "10/10 [==============================] - 0s 5ms/step - loss: 0.0036 - val_loss: 0.0035\n",
            "Epoch 75/100\n",
            "10/10 [==============================] - 0s 5ms/step - loss: 0.0036 - val_loss: 0.0035\n",
            "Epoch 76/100\n",
            "10/10 [==============================] - 0s 5ms/step - loss: 0.0036 - val_loss: 0.0035\n",
            "Epoch 77/100\n",
            "10/10 [==============================] - 0s 5ms/step - loss: 0.0036 - val_loss: 0.0035\n",
            "Epoch 78/100\n",
            "10/10 [==============================] - 0s 5ms/step - loss: 0.0036 - val_loss: 0.0035\n",
            "Epoch 79/100\n",
            "10/10 [==============================] - 0s 5ms/step - loss: 0.0036 - val_loss: 0.0035\n",
            "Epoch 80/100\n",
            "10/10 [==============================] - 0s 5ms/step - loss: 0.0036 - val_loss: 0.0035\n",
            "Epoch 81/100\n",
            "10/10 [==============================] - 0s 5ms/step - loss: 0.0036 - val_loss: 0.0035\n",
            "Epoch 82/100\n",
            "10/10 [==============================] - 0s 5ms/step - loss: 0.0036 - val_loss: 0.0035\n",
            "Epoch 83/100\n",
            "10/10 [==============================] - 0s 5ms/step - loss: 0.0036 - val_loss: 0.0035\n",
            "Epoch 84/100\n",
            "10/10 [==============================] - 0s 5ms/step - loss: 0.0036 - val_loss: 0.0035\n",
            "Epoch 85/100\n",
            "10/10 [==============================] - 0s 5ms/step - loss: 0.0036 - val_loss: 0.0035\n",
            "Epoch 86/100\n",
            "10/10 [==============================] - 0s 5ms/step - loss: 0.0036 - val_loss: 0.0035\n",
            "Epoch 87/100\n",
            "10/10 [==============================] - 0s 5ms/step - loss: 0.0036 - val_loss: 0.0035\n",
            "Epoch 88/100\n",
            "10/10 [==============================] - 0s 5ms/step - loss: 0.0036 - val_loss: 0.0035\n",
            "Epoch 89/100\n",
            "10/10 [==============================] - 0s 5ms/step - loss: 0.0036 - val_loss: 0.0035\n",
            "Epoch 90/100\n",
            "10/10 [==============================] - 0s 5ms/step - loss: 0.0036 - val_loss: 0.0035\n",
            "Epoch 91/100\n",
            "10/10 [==============================] - 0s 5ms/step - loss: 0.0036 - val_loss: 0.0035\n",
            "Epoch 92/100\n",
            "10/10 [==============================] - 0s 5ms/step - loss: 0.0036 - val_loss: 0.0035\n",
            "Epoch 93/100\n",
            "10/10 [==============================] - 0s 5ms/step - loss: 0.0036 - val_loss: 0.0035\n",
            "Epoch 94/100\n",
            "10/10 [==============================] - 0s 5ms/step - loss: 0.0036 - val_loss: 0.0035\n",
            "Epoch 95/100\n",
            "10/10 [==============================] - 0s 5ms/step - loss: 0.0036 - val_loss: 0.0035\n",
            "Epoch 96/100\n",
            "10/10 [==============================] - 0s 5ms/step - loss: 0.0036 - val_loss: 0.0035\n",
            "Epoch 97/100\n",
            "10/10 [==============================] - 0s 5ms/step - loss: 0.0036 - val_loss: 0.0035\n",
            "Epoch 98/100\n",
            "10/10 [==============================] - 0s 5ms/step - loss: 0.0036 - val_loss: 0.0035\n",
            "Epoch 99/100\n",
            "10/10 [==============================] - 0s 5ms/step - loss: 0.0036 - val_loss: 0.0035\n",
            "Epoch 100/100\n",
            "10/10 [==============================] - 0s 5ms/step - loss: 0.0036 - val_loss: 0.0035\n"
          ]
        }
      ],
      "source": [
        "history = model.fit(X_train_scaled,y_train,epochs=100,validation_split=0.2)"
      ]
    },
    {
      "cell_type": "code",
      "execution_count": null,
      "id": "e0063783",
      "metadata": {
        "execution": {
          "iopub.execute_input": "2025-02-18T02:14:37.543343Z",
          "iopub.status.busy": "2025-02-18T02:14:37.542396Z",
          "iopub.status.idle": "2025-02-18T02:14:37.675492Z",
          "shell.execute_reply": "2025-02-18T02:14:37.676018Z",
          "shell.execute_reply.started": "2025-02-18T02:11:25.037071Z"
        },
        "papermill": {
          "duration": 0.230307,
          "end_time": "2025-02-18T02:14:37.676204",
          "exception": false,
          "start_time": "2025-02-18T02:14:37.445897",
          "status": "completed"
        },
        "tags": [],
        "id": "e0063783"
      },
      "outputs": [],
      "source": [
        "y_pred = model.predict(X_test_scaled)"
      ]
    },
    {
      "cell_type": "code",
      "execution_count": null,
      "id": "7dc35a3c",
      "metadata": {
        "execution": {
          "iopub.execute_input": "2025-02-18T02:14:37.865471Z",
          "iopub.status.busy": "2025-02-18T02:14:37.864762Z",
          "iopub.status.idle": "2025-02-18T02:14:37.868940Z",
          "shell.execute_reply": "2025-02-18T02:14:37.868408Z",
          "shell.execute_reply.started": "2025-02-18T02:11:25.150779Z"
        },
        "papermill": {
          "duration": 0.101221,
          "end_time": "2025-02-18T02:14:37.869078",
          "exception": false,
          "start_time": "2025-02-18T02:14:37.767857",
          "status": "completed"
        },
        "tags": [],
        "id": "7dc35a3c",
        "outputId": "37ef62a9-3fbc-4f7b-94ff-edef03bebb9f"
      },
      "outputs": [
        {
          "data": {
            "text/plain": [
              "0.8078094788964574"
            ]
          },
          "execution_count": 22,
          "metadata": {},
          "output_type": "execute_result"
        }
      ],
      "source": [
        "from sklearn.metrics import r2_score\n",
        "r2_score(y_test,y_pred)"
      ]
    },
    {
      "cell_type": "code",
      "execution_count": null,
      "id": "512e678a",
      "metadata": {
        "execution": {
          "iopub.execute_input": "2025-02-18T02:14:38.062092Z",
          "iopub.status.busy": "2025-02-18T02:14:38.061384Z",
          "iopub.status.idle": "2025-02-18T02:14:38.297592Z",
          "shell.execute_reply": "2025-02-18T02:14:38.297050Z",
          "shell.execute_reply.started": "2025-02-18T02:11:48.177479Z"
        },
        "papermill": {
          "duration": 0.336117,
          "end_time": "2025-02-18T02:14:38.297735",
          "exception": false,
          "start_time": "2025-02-18T02:14:37.961618",
          "status": "completed"
        },
        "tags": [],
        "id": "512e678a",
        "outputId": "a78da791-b733-4912-f00f-7f6d01848599"
      },
      "outputs": [
        {
          "data": {
            "text/plain": [
              "[<matplotlib.lines.Line2D at 0x7c43742ff110>]"
            ]
          },
          "execution_count": 23,
          "metadata": {},
          "output_type": "execute_result"
        },
        {
          "data": {
            "image/png": "[encoded data removed]",
            "text/plain": [
              "<Figure size 432x288 with 1 Axes>"
            ]
          },
          "metadata": {
            "needs_background": "light"
          },
          "output_type": "display_data"
        }
      ],
      "source": [
        "import matplotlib.pyplot as plt\n",
        "plt.plot(history.history['loss'])\n",
        "plt.plot(history.history['val_loss'])\n"
      ]
    },
    {
      "cell_type": "code",
      "execution_count": null,
      "id": "843bd00d",
      "metadata": {
        "papermill": {
          "duration": 0.091054,
          "end_time": "2025-02-18T02:14:38.481548",
          "exception": false,
          "start_time": "2025-02-18T02:14:38.390494",
          "status": "completed"
        },
        "tags": [],
        "id": "843bd00d"
      },
      "outputs": [],
      "source": []
    }
  ],
  "metadata": {
    "kaggle": {
      "accelerator": "none",
      "dataSources": [
        {
          "datasetId": 14872,
          "sourceId": 228180,
          "sourceType": "datasetVersion"
        }
      ],
      "dockerImageVersionId": 30170,
      "isGpuEnabled": false,
      "isInternetEnabled": false,
      "language": "python",
      "sourceType": "notebook"
    },
    "kernelspec": {
      "display_name": "Python 3",
      "language": "python",
      "name": "python3"
    },
    "language_info": {
      "codemirror_mode": {
        "name": "ipython",
        "version": 3
      },
      "file_extension": ".py",
      "mimetype": "text/x-python",
      "name": "python",
      "nbconvert_exporter": "python",
      "pygments_lexer": "ipython3",
      "version": "3.7.12"
    },
    "papermill": {
      "default_parameters": {},
      "duration": 27.636897,
      "end_time": "2025-02-18T02:14:41.926373",
      "environment_variables": {},
      "exception": null,
      "input_path": "__notebook__.ipynb",
      "output_path": "__notebook__.ipynb",
      "parameters": {},
      "start_time": "2025-02-18T02:14:14.289476",
      "version": "2.3.3"
    },
    "colab": {
      "provenance": [],
      "include_colab_link": true
    }
  },
  "nbformat": 4,
  "nbformat_minor": 5
}