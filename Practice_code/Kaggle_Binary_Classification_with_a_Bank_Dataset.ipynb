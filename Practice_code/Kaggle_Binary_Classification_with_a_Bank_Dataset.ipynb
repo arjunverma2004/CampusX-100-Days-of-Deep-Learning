{
  "metadata": {
    "kernelspec": {
      "language": "python",
      "display_name": "Python 3",
      "name": "python3"
    },
    "language_info": {
      "name": "python",
      "version": "3.11.13",
      "mimetype": "text/x-python",
      "codemirror_mode": {
        "name": "ipython",
        "version": 3
      },
      "pygments_lexer": "ipython3",
      "nbconvert_exporter": "python",
      "file_extension": ".py"
    },
    "kaggle": {
      "accelerator": "nvidiaTeslaT4",
      "dataSources": [
        {
          "sourceId": 91719,
          "databundleVersionId": 12937777,
          "sourceType": "competition"
        }
      ],
      "dockerImageVersionId": 31089,
      "isInternetEnabled": true,
      "language": "python",
      "sourceType": "notebook",
      "isGpuEnabled": true
    },
    "colab": {
      "provenance": []
    },
    "widgets": {
      "application/vnd.jupyter.widget-state+json": {
        "46dcdfd5874941fea915f64b2b24abf9": {
          "model_module": "@jupyter-widgets/controls",
          "model_name": "VBoxModel",
          "model_module_version": "2.0.0",
          "state": {
            "_dom_classes": [],
            "_model_module": "@jupyter-widgets/controls",
            "_model_module_version": "2.0.0",
            "_model_name": "VBoxModel",
            "_view_count": null,
            "_view_module": "@jupyter-widgets/controls",
            "_view_module_version": "2.0.0",
            "_view_name": "VBoxView",
            "box_style": "",
            "children": [
              "IPY_MODEL_7ec90d3f984748aeb39165615905fde5",
              "IPY_MODEL_4494cc79dc7941039a2f0cb963967d21",
              "IPY_MODEL_acb51dbadd6140e494559a193e4d1190",
              "IPY_MODEL_f10611e857cd4aa3a95f99b04cc1f68c",
              "IPY_MODEL_7bed1d0a2764458c906f6e66d9ee341e"
            ],
            "layout": "IPY_MODEL_c9e32db203324fd3a511453e1a8774c2",
            "tabbable": null,
            "tooltip": null
          }
        },
        "7ec90d3f984748aeb39165615905fde5": {
          "model_module": "@jupyter-widgets/controls",
          "model_name": "HTMLModel",
          "model_module_version": "2.0.0",
          "state": {
            "_dom_classes": [],
            "_model_module": "@jupyter-widgets/controls",
            "_model_module_version": "2.0.0",
            "_model_name": "HTMLModel",
            "_view_count": null,
            "_view_module": "@jupyter-widgets/controls",
            "_view_module_version": "2.0.0",
            "_view_name": "HTMLView",
            "description": "",
            "description_allow_html": false,
            "layout": "IPY_MODEL_78e9a6a7ddff4c9aa100d79c226572c9",
            "placeholder": "​",
            "style": "IPY_MODEL_e051e3a5dd3c439fbedd004fdfb844bc",
            "tabbable": null,
            "tooltip": null,
            "value": "<center> <img\nsrc=https://www.kaggle.com/static/images/site-logo.png\nalt='Kaggle'> <br> Create an API token from <a\nhref=\"https://www.kaggle.com/settings/account\" target=\"_blank\">your Kaggle\nsettings page</a> and paste it below along with your Kaggle username. <br> </center>"
          }
        },
        "4494cc79dc7941039a2f0cb963967d21": {
          "model_module": "@jupyter-widgets/controls",
          "model_name": "TextModel",
          "model_module_version": "2.0.0",
          "state": {
            "_dom_classes": [],
            "_model_module": "@jupyter-widgets/controls",
            "_model_module_version": "2.0.0",
            "_model_name": "TextModel",
            "_view_count": null,
            "_view_module": "@jupyter-widgets/controls",
            "_view_module_version": "2.0.0",
            "_view_name": "TextView",
            "continuous_update": true,
            "description": "Username:",
            "description_allow_html": false,
            "disabled": false,
            "layout": "IPY_MODEL_9eecea2b028c414b9a15cc434baf6f3c",
            "placeholder": "​",
            "style": "IPY_MODEL_31d874860d00414d83b16f55fe190983",
            "tabbable": null,
            "tooltip": null,
            "value": ""
          }
        },
        "acb51dbadd6140e494559a193e4d1190": {
          "model_module": "@jupyter-widgets/controls",
          "model_name": "PasswordModel",
          "model_module_version": "2.0.0",
          "state": {
            "_dom_classes": [],
            "_model_module": "@jupyter-widgets/controls",
            "_model_module_version": "2.0.0",
            "_model_name": "PasswordModel",
            "_view_count": null,
            "_view_module": "@jupyter-widgets/controls",
            "_view_module_version": "2.0.0",
            "_view_name": "PasswordView",
            "continuous_update": true,
            "description": "Token:",
            "description_allow_html": false,
            "disabled": false,
            "layout": "IPY_MODEL_1d3aed82ee9b4a54a538cc91f6c4469a",
            "placeholder": "​",
            "style": "IPY_MODEL_ade6aad88fa8431497437ada70a289db",
            "tabbable": null,
            "tooltip": null,
            "value": ""
          }
        },
        "f10611e857cd4aa3a95f99b04cc1f68c": {
          "model_module": "@jupyter-widgets/controls",
          "model_name": "ButtonModel",
          "model_module_version": "2.0.0",
          "state": {
            "_dom_classes": [],
            "_model_module": "@jupyter-widgets/controls",
            "_model_module_version": "2.0.0",
            "_model_name": "ButtonModel",
            "_view_count": null,
            "_view_module": "@jupyter-widgets/controls",
            "_view_module_version": "2.0.0",
            "_view_name": "ButtonView",
            "button_style": "",
            "description": "Login",
            "disabled": false,
            "icon": "",
            "layout": "IPY_MODEL_4a02eacb4209411d99014984af153427",
            "style": "IPY_MODEL_fa84575918434b2690711a46ac22c696",
            "tabbable": null,
            "tooltip": null
          }
        },
        "7bed1d0a2764458c906f6e66d9ee341e": {
          "model_module": "@jupyter-widgets/controls",
          "model_name": "HTMLModel",
          "model_module_version": "2.0.0",
          "state": {
            "_dom_classes": [],
            "_model_module": "@jupyter-widgets/controls",
            "_model_module_version": "2.0.0",
            "_model_name": "HTMLModel",
            "_view_count": null,
            "_view_module": "@jupyter-widgets/controls",
            "_view_module_version": "2.0.0",
            "_view_name": "HTMLView",
            "description": "",
            "description_allow_html": false,
            "layout": "IPY_MODEL_fa76483244714817ac4f63d621f4a3f0",
            "placeholder": "​",
            "style": "IPY_MODEL_fb337953832445c1b74bc191ff157b08",
            "tabbable": null,
            "tooltip": null,
            "value": "\n<b>Thank You</b></center>"
          }
        },
        "c9e32db203324fd3a511453e1a8774c2": {
          "model_module": "@jupyter-widgets/base",
          "model_name": "LayoutModel",
          "model_module_version": "2.0.0",
          "state": {
            "_model_module": "@jupyter-widgets/base",
            "_model_module_version": "2.0.0",
            "_model_name": "LayoutModel",
            "_view_count": null,
            "_view_module": "@jupyter-widgets/base",
            "_view_module_version": "2.0.0",
            "_view_name": "LayoutView",
            "align_content": null,
            "align_items": "center",
            "align_self": null,
            "border_bottom": null,
            "border_left": null,
            "border_right": null,
            "border_top": null,
            "bottom": null,
            "display": "flex",
            "flex": null,
            "flex_flow": "column",
            "grid_area": null,
            "grid_auto_columns": null,
            "grid_auto_flow": null,
            "grid_auto_rows": null,
            "grid_column": null,
            "grid_gap": null,
            "grid_row": null,
            "grid_template_areas": null,
            "grid_template_columns": null,
            "grid_template_rows": null,
            "height": null,
            "justify_content": null,
            "justify_items": null,
            "left": null,
            "margin": null,
            "max_height": null,
            "max_width": null,
            "min_height": null,
            "min_width": null,
            "object_fit": null,
            "object_position": null,
            "order": null,
            "overflow": null,
            "padding": null,
            "right": null,
            "top": null,
            "visibility": null,
            "width": "50%"
          }
        },
        "78e9a6a7ddff4c9aa100d79c226572c9": {
          "model_module": "@jupyter-widgets/base",
          "model_name": "LayoutModel",
          "model_module_version": "2.0.0",
          "state": {
            "_model_module": "@jupyter-widgets/base",
            "_model_module_version": "2.0.0",
            "_model_name": "LayoutModel",
            "_view_count": null,
            "_view_module": "@jupyter-widgets/base",
            "_view_module_version": "2.0.0",
            "_view_name": "LayoutView",
            "align_content": null,
            "align_items": null,
            "align_self": null,
            "border_bottom": null,
            "border_left": null,
            "border_right": null,
            "border_top": null,
            "bottom": null,
            "display": null,
            "flex": null,
            "flex_flow": null,
            "grid_area": null,
            "grid_auto_columns": null,
            "grid_auto_flow": null,
            "grid_auto_rows": null,
            "grid_column": null,
            "grid_gap": null,
            "grid_row": null,
            "grid_template_areas": null,
            "grid_template_columns": null,
            "grid_template_rows": null,
            "height": null,
            "justify_content": null,
            "justify_items": null,
            "left": null,
            "margin": null,
            "max_height": null,
            "max_width": null,
            "min_height": null,
            "min_width": null,
            "object_fit": null,
            "object_position": null,
            "order": null,
            "overflow": null,
            "padding": null,
            "right": null,
            "top": null,
            "visibility": null,
            "width": null
          }
        },
        "e051e3a5dd3c439fbedd004fdfb844bc": {
          "model_module": "@jupyter-widgets/controls",
          "model_name": "HTMLStyleModel",
          "model_module_version": "2.0.0",
          "state": {
            "_model_module": "@jupyter-widgets/controls",
            "_model_module_version": "2.0.0",
            "_model_name": "HTMLStyleModel",
            "_view_count": null,
            "_view_module": "@jupyter-widgets/base",
            "_view_module_version": "2.0.0",
            "_view_name": "StyleView",
            "background": null,
            "description_width": "",
            "font_size": null,
            "text_color": null
          }
        },
        "9eecea2b028c414b9a15cc434baf6f3c": {
          "model_module": "@jupyter-widgets/base",
          "model_name": "LayoutModel",
          "model_module_version": "2.0.0",
          "state": {
            "_model_module": "@jupyter-widgets/base",
            "_model_module_version": "2.0.0",
            "_model_name": "LayoutModel",
            "_view_count": null,
            "_view_module": "@jupyter-widgets/base",
            "_view_module_version": "2.0.0",
            "_view_name": "LayoutView",
            "align_content": null,
            "align_items": null,
            "align_self": null,
            "border_bottom": null,
            "border_left": null,
            "border_right": null,
            "border_top": null,
            "bottom": null,
            "display": null,
            "flex": null,
            "flex_flow": null,
            "grid_area": null,
            "grid_auto_columns": null,
            "grid_auto_flow": null,
            "grid_auto_rows": null,
            "grid_column": null,
            "grid_gap": null,
            "grid_row": null,
            "grid_template_areas": null,
            "grid_template_columns": null,
            "grid_template_rows": null,
            "height": null,
            "justify_content": null,
            "justify_items": null,
            "left": null,
            "margin": null,
            "max_height": null,
            "max_width": null,
            "min_height": null,
            "min_width": null,
            "object_fit": null,
            "object_position": null,
            "order": null,
            "overflow": null,
            "padding": null,
            "right": null,
            "top": null,
            "visibility": null,
            "width": null
          }
        },
        "31d874860d00414d83b16f55fe190983": {
          "model_module": "@jupyter-widgets/controls",
          "model_name": "TextStyleModel",
          "model_module_version": "2.0.0",
          "state": {
            "_model_module": "@jupyter-widgets/controls",
            "_model_module_version": "2.0.0",
            "_model_name": "TextStyleModel",
            "_view_count": null,
            "_view_module": "@jupyter-widgets/base",
            "_view_module_version": "2.0.0",
            "_view_name": "StyleView",
            "background": null,
            "description_width": "",
            "font_size": null,
            "text_color": null
          }
        },
        "1d3aed82ee9b4a54a538cc91f6c4469a": {
          "model_module": "@jupyter-widgets/base",
          "model_name": "LayoutModel",
          "model_module_version": "2.0.0",
          "state": {
            "_model_module": "@jupyter-widgets/base",
            "_model_module_version": "2.0.0",
            "_model_name": "LayoutModel",
            "_view_count": null,
            "_view_module": "@jupyter-widgets/base",
            "_view_module_version": "2.0.0",
            "_view_name": "LayoutView",
            "align_content": null,
            "align_items": null,
            "align_self": null,
            "border_bottom": null,
            "border_left": null,
            "border_right": null,
            "border_top": null,
            "bottom": null,
            "display": null,
            "flex": null,
            "flex_flow": null,
            "grid_area": null,
            "grid_auto_columns": null,
            "grid_auto_flow": null,
            "grid_auto_rows": null,
            "grid_column": null,
            "grid_gap": null,
            "grid_row": null,
            "grid_template_areas": null,
            "grid_template_columns": null,
            "grid_template_rows": null,
            "height": null,
            "justify_content": null,
            "justify_items": null,
            "left": null,
            "margin": null,
            "max_height": null,
            "max_width": null,
            "min_height": null,
            "min_width": null,
            "object_fit": null,
            "object_position": null,
            "order": null,
            "overflow": null,
            "padding": null,
            "right": null,
            "top": null,
            "visibility": null,
            "width": null
          }
        },
        "ade6aad88fa8431497437ada70a289db": {
          "model_module": "@jupyter-widgets/controls",
          "model_name": "TextStyleModel",
          "model_module_version": "2.0.0",
          "state": {
            "_model_module": "@jupyter-widgets/controls",
            "_model_module_version": "2.0.0",
            "_model_name": "TextStyleModel",
            "_view_count": null,
            "_view_module": "@jupyter-widgets/base",
            "_view_module_version": "2.0.0",
            "_view_name": "StyleView",
            "background": null,
            "description_width": "",
            "font_size": null,
            "text_color": null
          }
        },
        "4a02eacb4209411d99014984af153427": {
          "model_module": "@jupyter-widgets/base",
          "model_name": "LayoutModel",
          "model_module_version": "2.0.0",
          "state": {
            "_model_module": "@jupyter-widgets/base",
            "_model_module_version": "2.0.0",
            "_model_name": "LayoutModel",
            "_view_count": null,
            "_view_module": "@jupyter-widgets/base",
            "_view_module_version": "2.0.0",
            "_view_name": "LayoutView",
            "align_content": null,
            "align_items": null,
            "align_self": null,
            "border_bottom": null,
            "border_left": null,
            "border_right": null,
            "border_top": null,
            "bottom": null,
            "display": null,
            "flex": null,
            "flex_flow": null,
            "grid_area": null,
            "grid_auto_columns": null,
            "grid_auto_flow": null,
            "grid_auto_rows": null,
            "grid_column": null,
            "grid_gap": null,
            "grid_row": null,
            "grid_template_areas": null,
            "grid_template_columns": null,
            "grid_template_rows": null,
            "height": null,
            "justify_content": null,
            "justify_items": null,
            "left": null,
            "margin": null,
            "max_height": null,
            "max_width": null,
            "min_height": null,
            "min_width": null,
            "object_fit": null,
            "object_position": null,
            "order": null,
            "overflow": null,
            "padding": null,
            "right": null,
            "top": null,
            "visibility": null,
            "width": null
          }
        },
        "fa84575918434b2690711a46ac22c696": {
          "model_module": "@jupyter-widgets/controls",
          "model_name": "ButtonStyleModel",
          "model_module_version": "2.0.0",
          "state": {
            "_model_module": "@jupyter-widgets/controls",
            "_model_module_version": "2.0.0",
            "_model_name": "ButtonStyleModel",
            "_view_count": null,
            "_view_module": "@jupyter-widgets/base",
            "_view_module_version": "2.0.0",
            "_view_name": "StyleView",
            "button_color": null,
            "font_family": null,
            "font_size": null,
            "font_style": null,
            "font_variant": null,
            "font_weight": null,
            "text_color": null,
            "text_decoration": null
          }
        },
        "fa76483244714817ac4f63d621f4a3f0": {
          "model_module": "@jupyter-widgets/base",
          "model_name": "LayoutModel",
          "model_module_version": "2.0.0",
          "state": {
            "_model_module": "@jupyter-widgets/base",
            "_model_module_version": "2.0.0",
            "_model_name": "LayoutModel",
            "_view_count": null,
            "_view_module": "@jupyter-widgets/base",
            "_view_module_version": "2.0.0",
            "_view_name": "LayoutView",
            "align_content": null,
            "align_items": null,
            "align_self": null,
            "border_bottom": null,
            "border_left": null,
            "border_right": null,
            "border_top": null,
            "bottom": null,
            "display": null,
            "flex": null,
            "flex_flow": null,
            "grid_area": null,
            "grid_auto_columns": null,
            "grid_auto_flow": null,
            "grid_auto_rows": null,
            "grid_column": null,
            "grid_gap": null,
            "grid_row": null,
            "grid_template_areas": null,
            "grid_template_columns": null,
            "grid_template_rows": null,
            "height": null,
            "justify_content": null,
            "justify_items": null,
            "left": null,
            "margin": null,
            "max_height": null,
            "max_width": null,
            "min_height": null,
            "min_width": null,
            "object_fit": null,
            "object_position": null,
            "order": null,
            "overflow": null,
            "padding": null,
            "right": null,
            "top": null,
            "visibility": null,
            "width": null
          }
        },
        "fb337953832445c1b74bc191ff157b08": {
          "model_module": "@jupyter-widgets/controls",
          "model_name": "HTMLStyleModel",
          "model_module_version": "2.0.0",
          "state": {
            "_model_module": "@jupyter-widgets/controls",
            "_model_module_version": "2.0.0",
            "_model_name": "HTMLStyleModel",
            "_view_count": null,
            "_view_module": "@jupyter-widgets/base",
            "_view_module_version": "2.0.0",
            "_view_name": "StyleView",
            "background": null,
            "description_width": "",
            "font_size": null,
            "text_color": null
          }
        }
      }
    }
  },
  "nbformat_minor": 0,
  "nbformat": 4,
  "cells": [
    {
      "source": [
        "# IMPORTANT: SOME KAGGLE DATA SOURCES ARE PRIVATE\n",
        "# RUN THIS CELL IN ORDER TO IMPORT YOUR KAGGLE DATA SOURCES.\n",
        "import kagglehub\n",
        "kagglehub.login()\n"
      ],
      "metadata": {
        "colab": {
          "base_uri": "https://localhost:8080/",
          "height": 17,
          "referenced_widgets": [
            "46dcdfd5874941fea915f64b2b24abf9",
            "7ec90d3f984748aeb39165615905fde5",
            "4494cc79dc7941039a2f0cb963967d21",
            "acb51dbadd6140e494559a193e4d1190",
            "f10611e857cd4aa3a95f99b04cc1f68c",
            "7bed1d0a2764458c906f6e66d9ee341e",
            "c9e32db203324fd3a511453e1a8774c2",
            "78e9a6a7ddff4c9aa100d79c226572c9",
            "e051e3a5dd3c439fbedd004fdfb844bc",
            "9eecea2b028c414b9a15cc434baf6f3c",
            "31d874860d00414d83b16f55fe190983",
            "1d3aed82ee9b4a54a538cc91f6c4469a",
            "ade6aad88fa8431497437ada70a289db",
            "4a02eacb4209411d99014984af153427",
            "fa84575918434b2690711a46ac22c696",
            "fa76483244714817ac4f63d621f4a3f0",
            "fb337953832445c1b74bc191ff157b08"
          ]
        },
        "id": "oQP64FEbh-F0",
        "outputId": "4ab41d81-aee3-4b7a-8ea6-53e7cf3c704a"
      },
      "cell_type": "code",
      "outputs": [
        {
          "output_type": "display_data",
          "data": {
            "text/plain": [
              "VBox(children=(HTML(value='<center> <img\\nsrc=https://www.kaggle.com/static/images/site-logo.png\\nalt=\\'Kaggle…"
            ],
            "application/vnd.jupyter.widget-view+json": {
              "version_major": 2,
              "version_minor": 0,
              "model_id": "46dcdfd5874941fea915f64b2b24abf9"
            }
          },
          "metadata": {}
        }
      ],
      "execution_count": null
    },
    {
      "source": [
        "# IMPORTANT: RUN THIS CELL IN ORDER TO IMPORT YOUR KAGGLE DATA SOURCES,\n",
        "# THEN FEEL FREE TO DELETE THIS CELL.\n",
        "# NOTE: THIS NOTEBOOK ENVIRONMENT DIFFERS FROM KAGGLE'S PYTHON\n",
        "# ENVIRONMENT SO THERE MAY BE MISSING LIBRARIES USED BY YOUR\n",
        "# NOTEBOOK.\n",
        "\n",
        "playground_series_s5e8_path = kagglehub.competition_download('playground-series-s5e8')\n",
        "\n",
        "print('Data source import complete.')\n"
      ],
      "metadata": {
        "colab": {
          "base_uri": "https://localhost:8080/"
        },
        "id": "2ZAuyL5Oh-F5",
        "outputId": "19d359c8-304a-4432-b54a-f626107e22f1"
      },
      "cell_type": "code",
      "outputs": [
        {
          "output_type": "stream",
          "name": "stdout",
          "text": [
            "Data source import complete.\n"
          ]
        }
      ],
      "execution_count": null
    },
    {
      "cell_type": "markdown",
      "source": [
        "<h2 style=\"\n",
        "  background: linear-gradient(135deg, #0f2027, #203a43, #2c5364);\n",
        "  color: white;\n",
        "  padding: 10px 20px;\n",
        "  border-radius: 10px;\n",
        "  font-size: 20px;\n",
        "  font-family: Arial, sans-serif;\n",
        "  margin: 20px 0;\n",
        "  text-align: center;\n",
        "\">\n",
        "  Engineered Features & Their Purpose\n",
        "</h2>\n",
        "\n",
        "<table style=\"\n",
        "  width: 100%;\n",
        "  border-collapse: collapse;\n",
        "  font-family: Arial, sans-serif;\n",
        "  font-size: 15px;\n",
        "  margin-bottom: 25px;\n",
        "\">\n",
        "  <thead>\n",
        "    <tr style=\"background-color: #f5f5f5;\">\n",
        "      <th style=\"padding: 12px; border: 1px solid #ccc;\">Feature Name</th>\n",
        "      <th style=\"padding: 12px; border: 1px solid #ccc;\">Description / Logic</th>\n",
        "      <th style=\"padding: 12px; border: 1px solid #ccc;\">Why It's Meaningful</th>\n",
        "    </tr>\n",
        "  </thead>\n",
        "  <tbody>\n",
        "    <tr><td><code>age</code></td><td>Raw age</td><td>Baseline demographic</td></tr>\n",
        "    <tr><td><code>is_senior</code></td><td>Age ≥ 60</td><td>Captures retirement effect</td></tr>\n",
        "    <tr><td><code>is_young_adult</code></td><td>Age between 18-30</td><td>Young adult economic activity</td></tr>\n",
        "    <tr><td><code>age_decade</code></td><td>Age rounded down to decade</td><td>Group life stages</td></tr>\n",
        "    <tr><td><code>age_zscore</code></td><td>Age normalized</td><td>Scale for modeling</td></tr>\n",
        "    <tr><td><code>job_freq</code></td><td>Job frequency in dataset</td><td>Rarity and popularity of job</td></tr>\n",
        "    <tr><td><code>job_enc</code></td><td>Encoded job category</td><td>Numerical representation</td></tr>\n",
        "    <tr><td><code>job_high_profile</code></td><td>Management/admin/technician flag</td><td>Stability & income proxy</td></tr>\n",
        "    <tr><td><code>job_self_employed</code></td><td>Self-employed or entrepreneur flag</td><td>Independent worker indicator</td></tr>\n",
        "    <tr><td><code>job_str_len</code></td><td>Length of job string</td><td>Proxy for job name complexity</td></tr>\n",
        "    <tr><td><code>married_flag</code></td><td>Is married</td><td>Relationship stability</td></tr>\n",
        "    <tr><td><code>single_or_divorced_flag</code></td><td>Single or divorced flag</td><td>Relationship status impact</td></tr>\n",
        "    <tr><td><code>marital_enc</code></td><td>Encoded marital status</td><td>Numerical representation</td></tr>\n",
        "    <tr><td><code>married_high_balance</code></td><td>Married with above average balance</td><td>Financial stability signal</td></tr>\n",
        "    <tr><td><code>edu_tertiary_or_secondary</code></td><td>Education is tertiary or secondary</td><td>Higher education indicator</td></tr>\n",
        "    <tr><td><code>unknown_edu_flag</code></td><td>Education unknown flag</td><td>Missing education data</td></tr>\n",
        "    <tr><td><code>education_enc</code></td><td>Encoded education</td><td>Numerical representation</td></tr>\n",
        "    <tr><td><code>edu_str_len</code></td><td>Length of education string</td><td>Proxy for label complexity</td></tr>\n",
        "    <tr><td><code>edu_job_match</code></td><td>Tertiary education & high profile job</td><td>Education-job alignment</td></tr>\n",
        "    <tr><td><code>balance_pos_flag</code></td><td>Balance positive flag</td><td>Positive account balance</td></tr>\n",
        "    <tr><td><code>balance_log</code></td><td>Log transformed balance</td><td>Reduce skewness</td></tr>\n",
        "    <tr><td><code>balance_zscore</code></td><td>Normalized balance</td><td>Standard scaling</td></tr>\n",
        "    <tr><td><code>balance_bucket</code></td><td>Balance quantile bucket</td><td>Group customers by wealth</td></tr>\n",
        "    <tr><td><code>high_balance_flag</code></td><td>Above 75th percentile balance</td><td>Wealthy customer indicator</td></tr>\n",
        "    <tr><td><code>balance_per_campaign</code></td><td>Balance divided by campaign count</td><td>Wealth per contact attempt</td></tr>\n",
        "    <tr><td><code>loan_flag</code></td><td>Loan == \"yes\"</td><td>Debt obligation</td></tr>\n",
        "    <tr><td><code>housing_flag</code></td><td>Housing loan == \"yes\"</td><td>Housing debt indicator</td></tr>\n",
        "    <tr><td><code>any_loan_flag</code></td><td>Any loan (housing or personal)</td><td>Debt burden indicator</td></tr>\n",
        "    <tr><td><code>both_loan_flag</code></td><td>Both loan and housing loans</td><td>Higher risk profile</td></tr>\n",
        "    <tr><td><code>loan_enc</code></td><td>Encoded loan status</td><td>Numerical encoding</td></tr>\n",
        "    <tr><td><code>housing_enc</code></td><td>Encoded housing status</td><td>Numerical encoding</td></tr>\n",
        "    <tr><td><code>loan_balance_ratio</code></td><td>Balance divided by loan flag</td><td>Relative balance to loan</td></tr>\n",
        "    <tr><td><code>contact_enc</code></td><td>Encoded contact method</td><td>Numerical encoding</td></tr>\n",
        "    <tr><td><code>mobile_contact_flag</code></td><td>Contact method == cellular</td><td>Preferred communication</td></tr>\n",
        "    <tr><td><code>unknown_contact_flag</code></td><td>Contact method unknown</td><td>Data quality</td></tr>\n",
        "    <tr><td><code>contact_score</code></td><td>Score for contact quality (cellular>telephone>unknown)</td><td>Weighted contact preference</td></tr>\n",
        "    <tr><td><code>contact_str_len</code></td><td>Length of contact string</td><td>Proxy for label complexity</td></tr>\n",
        "    <tr><td><code>calls_per_day</code></td><td>Campaign calls divided by day</td><td>Contact frequency</td></tr>\n",
        "    <tr><td><code>multiple_contacts_flag</code></td><td>Campaign > 3 calls</td><td>High contact attempts</td></tr>\n",
        "    <tr><td><code>pdays_flag</code></td><td>Previous days since contact != -1</td><td>Contact history</td></tr>\n",
        "    <tr><td><code>previous_campaign_ratio</code></td><td>Previous contacts / campaign calls</td><td>Success ratio</td></tr>\n",
        "    <tr><td><code>poutcome_enc</code></td><td>Encoded previous outcome</td><td>Numerical encoding</td></tr>\n",
        "    <tr><td><code>poutcome_str_len</code></td><td>Length of previous outcome string</td><td>Proxy for label complexity</td></tr>\n",
        "    <tr><td><code>days_since_last_contact_bucket</code></td><td>Binned days since last contact</td><td>Recency group</td></tr>\n",
        "    <tr><td><code>month_enc</code></td><td>Encoded month (1-12)</td><td>Seasonal effect</td></tr>\n",
        "    <tr><td><code>season_enc</code></td><td>Season encoded as int (1=winter...4=fall)</td><td>Seasonal effect</td></tr>\n",
        "    <tr><td><code>is_month_end_flag</code></td><td>Day > 25</td><td>End of month behavior</td></tr>\n",
        "    <tr><td><code>day_of_week_estimate</code></td><td>Day modulo 7</td><td>Weekly cycles</td></tr>\n",
        "    <tr><td><code>is_q2_flag</code></td><td>Month in April-June</td><td>Quarter 2 seasonality</td></tr>\n",
        "    <tr><td><code>duration_log</code></td><td>Log of call duration</td><td>Normalize skewed call time</td></tr>\n",
        "    <tr><td><code>duration_per_campaign</code></td><td>Duration divided by campaign</td><td>Avg call duration</td></tr>\n",
        "    <tr><td><code>duration_per_previous</code></td><td>Duration divided by previous calls</td><td>Efficiency</td></tr>\n",
        "    <tr><td><code>duration_over_day</code></td><td>Duration divided by day</td><td>Daily call intensity</td></tr>\n",
        "    <tr><td><code>campaign_over_previous</code></td><td>Campaign divided by previous</td><td>Contact ratio</td></tr>\n",
        "    <tr><td><code>campaign_log</code></td><td>Log of campaign count</td><td>Normalize skewness</td></tr>\n",
        "    <tr><td><code>previous_log</code></td><td>Log of previous contacts</td><td>Normalize skewness</td></tr>\n",
        "    <tr><td><code>pdays_log</code></td><td>Log days since last contact if >0</td><td>Normalize recency</td></tr>\n",
        "  </tbody>\n",
        "</table>\n"
      ],
      "metadata": {
        "execution": {
          "iopub.status.busy": "2025-08-09T09:17:13.1867Z",
          "iopub.execute_input": "2025-08-09T09:17:13.187051Z",
          "iopub.status.idle": "2025-08-09T09:17:13.206137Z",
          "shell.execute_reply.started": "2025-08-09T09:17:13.187018Z",
          "shell.execute_reply": "2025-08-09T09:17:13.204976Z"
        },
        "id": "cMeBSjfnh-F6"
      }
    },
    {
      "cell_type": "code",
      "source": [
        "from sklearn.model_selection import train_test_split\n",
        "from sklearn.model_selection import StratifiedKFold\n",
        "from sklearn.metrics import roc_auc_score\n",
        "import xgboost as xgb\n",
        "import lightgbm as lgb\n",
        "import pandas as pd\n",
        "import numpy as np"
      ],
      "metadata": {
        "trusted": true,
        "id": "uatae6Qmh-F9"
      },
      "outputs": [],
      "execution_count": null
    },
    {
      "cell_type": "code",
      "source": [
        "train = pd.read_csv(\"/kaggle/input/playground-series-s5e8/train.csv\")\n",
        "test = pd.read_csv(\"/kaggle/input/playground-series-s5e8/test.csv\")\n",
        "train.drop('id', inplace=True, axis=1)\n",
        "test.drop('id', inplace=True, axis=1)"
      ],
      "metadata": {
        "trusted": true,
        "execution": {
          "iopub.status.busy": "2025-08-10T19:41:44.434061Z",
          "iopub.execute_input": "2025-08-10T19:41:44.434691Z",
          "iopub.status.idle": "2025-08-10T19:41:47.853689Z",
          "shell.execute_reply.started": "2025-08-10T19:41:44.434662Z",
          "shell.execute_reply": "2025-08-10T19:41:47.852655Z"
        },
        "id": "bqbYJmR5h-F-"
      },
      "outputs": [],
      "execution_count": null
    },
    {
      "cell_type": "markdown",
      "source": [
        "<h1 id=\"intro\"\n",
        "    style=\"\n",
        "  background: linear-gradient(135deg, #0f2027, #203a43, #2c5364);\n",
        "  color: white;\n",
        "  padding: 12px 24px;\n",
        "  border-radius: 12px;\n",
        "  font-size: 22px;\n",
        "  font-weight: bold;\n",
        "  text-align: center;\n",
        "  font-family: Arial, sans-serif;\n",
        "  margin: 20px 0;\">\n",
        "        Feature Engineering\n",
        "</h1>"
      ],
      "metadata": {
        "id": "dejg7a_oh-F-"
      }
    },
    {
      "cell_type": "code",
      "source": [
        "import numpy as np\n",
        "import pandas as pd\n",
        "import lightgbm as lgb\n",
        "from sklearn.model_selection import StratifiedKFold\n",
        "from sklearn.preprocessing import LabelEncoder\n",
        "\n",
        "def add_features_numeric_only(df):\n",
        "    df = df.copy()\n",
        "\n",
        "    # Age features\n",
        "    df['is_senior'] = (df['age'] >= 60).astype(int)\n",
        "    df['is_young_adult'] = df['age'].between(18, 30).astype(int)\n",
        "    df['age_decade'] = (df['age'] // 10) * 10\n",
        "    df['age_zscore'] = (df['age'] - df['age'].mean()) / df['age'].std()\n",
        "    df['age_bin'] = pd.cut(df['age'], bins=range(15, 100, 5), labels=False)\n",
        "\n",
        "    # Label encode categorical columns safely\n",
        "    cat_cols = ['job', 'marital', 'education', 'default', 'housing', 'loan', 'contact', 'month', 'poutcome']\n",
        "    for col in cat_cols:\n",
        "        if col in df.columns:\n",
        "            le = LabelEncoder()\n",
        "            df[col + '_enc'] = le.fit_transform(df[col].astype(str))\n",
        "\n",
        "    # Job features\n",
        "    job_freq = df['job'].value_counts(normalize=True)\n",
        "    df['job_freq'] = df['job'].map(job_freq).fillna(0)\n",
        "    df['job_is_high_profile'] = df['job'].isin(['management', 'admin.', 'technician']).astype(int)\n",
        "    df['is_self_employed'] = df['job'].isin(['self-employed', 'entrepreneur']).astype(int)\n",
        "\n",
        "    # Marital features\n",
        "    df['is_married'] = (df['marital'] == 'married').astype(int)\n",
        "    df['is_single_or_divorced'] = df['marital'].isin(['single', 'divorced']).astype(int)\n",
        "\n",
        "    # Education features\n",
        "    df['is_educated'] = df['education'].isin(['tertiary', 'secondary']).astype(int)\n",
        "    df['unknown_education'] = (df['education'] == 'unknown').astype(int)\n",
        "    df['edu_job_match'] = ((df['education'] == 'tertiary') & df['job_is_high_profile'].astype(bool)).astype(int)\n",
        "\n",
        "    # Financial features\n",
        "    df['balance_log'] = df['balance'].apply(lambda x: np.log1p(x) if x > 0 else 0)\n",
        "    df['is_balance_positive'] = (df['balance'] > 0).astype(int)\n",
        "    df['balance_zscore'] = (df['balance'] - df['balance'].mean()) / df['balance'].std()\n",
        "    df['balance_bucket'] = pd.qcut(df['balance'], 5, labels=False, duplicates='drop')\n",
        "    df['has_high_balance'] = (df['balance'] > df['balance'].quantile(0.75)).astype(int)\n",
        "\n",
        "    # Loan & Housing features\n",
        "    df['has_any_loan'] = ((df['loan'] == 'yes') | (df['housing'] == 'yes')).astype(int)\n",
        "    df['has_both_loans'] = ((df['loan'] == 'yes') & (df['housing'] == 'yes')).astype(int)\n",
        "\n",
        "    # Loan balance ratio: balance / loan indicator (replace 0 with NaN to avoid div by zero)\n",
        "    loan_indicator = (df['loan'] == 'yes').astype(int).replace(0, np.nan)\n",
        "    df['loan_balance_ratio'] = df['balance'] / loan_indicator\n",
        "\n",
        "    # Contact features\n",
        "    df['is_mobile_contact'] = (df['contact'] == 'cellular').astype(int)\n",
        "    df['unknown_contact'] = (df['contact'] == 'unknown').astype(int)\n",
        "    df['preferred_contact_score'] = df['contact'].map({'cellular': 2, 'telephone': 1, 'unknown': 0}).fillna(0)\n",
        "\n",
        "    # Campaign & Previous Contact features\n",
        "    df['calls_per_day'] = df['campaign'] / df['day'].replace(0, np.nan)\n",
        "    df['multiple_contacts_flag'] = (df['campaign'] > 3).astype(int)\n",
        "    df['pdays_flag'] = (df['pdays'] != -1).astype(int)\n",
        "    df['days_since_last_contact_bucket'] = pd.cut(df['pdays'], bins=[-2,0,30,90,180,999], labels=False)\n",
        "    df['previous_contact_ratio'] = df['previous'] / df['campaign'].replace(0, np.nan)\n",
        "\n",
        "    # Temporal features\n",
        "    month_map = {\"jan\":1,\"feb\":2,\"mar\":3,\"apr\":4,\"may\":5,\"jun\":6,\"jul\":7,\"aug\":8,\"sep\":9,\"oct\":10,\"nov\":11,\"dec\":12}\n",
        "    df['month_enc'] = df['month'].map(month_map).fillna(0).astype(int)\n",
        "    season_map = {12:0,1:0,2:0,3:1,4:1,5:1,6:2,7:2,8:2,9:3,10:3,11:3}  # winter=0,spring=1,summer=2,fall=3\n",
        "    df['season'] = df['month_enc'].map(season_map).fillna(-1).astype(int)\n",
        "    df['is_month_end'] = (df['day'] > 25).astype(int)\n",
        "    df['day_of_week_estimate'] = df['day'] % 7\n",
        "    df['is_q2'] = df['month'].isin(['apr','may','jun']).astype(int)\n",
        "\n",
        "    # Interaction features (example 10)\n",
        "    df['age_x_balance'] = df['age'] * df['balance']\n",
        "    df['campaign_x_previous'] = df['campaign'] * df['previous']\n",
        "    df['pdays_x_poutcome'] = df['pdays'] * df['poutcome_enc'].fillna(0)\n",
        "    df['balance_per_campaign'] = df['balance'] / (df['campaign'].replace(0, np.nan))\n",
        "    df['duration_per_campaign'] = df['duration'] / (df['campaign'].replace(0, np.nan))\n",
        "    df['age_bin_x_is_married'] = df['age_bin'].fillna(-1).astype(int) * df['is_married']\n",
        "    df['job_enc_x_loan'] = df['job_enc'] * (df['loan'] == 'yes').astype(int)\n",
        "    df['balance_log_x_is_balance_pos'] = df['balance_log'] * df['is_balance_positive']\n",
        "    df['calls_per_day_x_multiple_contacts'] = df['calls_per_day'] * df['multiple_contacts_flag']\n",
        "    df['season_x_is_q2'] = df['season'] * df['is_q2']\n",
        "\n",
        "    # Drop original categorical string columns to avoid dtype issues\n",
        "    original_cat_cols = ['job', 'marital', 'education', 'default', 'housing', 'loan', 'contact', 'month', 'poutcome']\n",
        "    df = df.drop(columns=[c for c in original_cat_cols if c in df.columns])\n",
        "\n",
        "    # Fill any remaining NaNs (for safety)\n",
        "    df = df.fillna(0)\n",
        "\n",
        "    # Ensure all columns are numeric type\n",
        "    for c in df.columns:\n",
        "        if df[c].dtype == 'bool':\n",
        "            df[c] = df[c].astype(int)\n",
        "        elif df[c].dtype.name == 'category':\n",
        "            df[c] = df[c].astype(int)\n",
        "\n",
        "    return df\n"
      ],
      "metadata": {
        "trusted": true,
        "execution": {
          "iopub.status.busy": "2025-08-10T20:15:55.125217Z",
          "iopub.execute_input": "2025-08-10T20:15:55.125607Z",
          "iopub.status.idle": "2025-08-10T20:15:55.149097Z",
          "shell.execute_reply.started": "2025-08-10T20:15:55.125584Z",
          "shell.execute_reply": "2025-08-10T20:15:55.148224Z"
        },
        "id": "vCUp6FGKh-F_"
      },
      "outputs": [],
      "execution_count": null
    },
    {
      "cell_type": "code",
      "source": [
        "\n",
        "# ====== Training example ======\n",
        "\n",
        "def train_lightgbm_cv(train, test, target_col='y'):\n",
        "    X = train.drop(columns=[target_col])\n",
        "    y = train[target_col]\n",
        "\n",
        "    X_test = test.copy()\n",
        "\n",
        "    n_splits = 5\n",
        "    kf = StratifiedKFold(n_splits=n_splits, shuffle=True, random_state=42)\n",
        "\n",
        "    y_probs = np.zeros(len(X_test))\n",
        "    models = []\n",
        "\n",
        "    for fold, (train_idx, val_idx) in enumerate(kf.split(X, y)):\n",
        "        print(f\"\\n🔹 Training fold {fold + 1}/{n_splits} >>>\")\n",
        "\n",
        "        X_train, y_train = X.iloc[train_idx], y.iloc[train_idx]\n",
        "        X_val, y_val = X.iloc[val_idx], y.iloc[val_idx]\n",
        "\n",
        "        X_train_fe = add_features_numeric_only(X_train)\n",
        "        X_val_fe = add_features_numeric_only(X_val)\n",
        "        X_test_fe = add_features_numeric_only(X_test)\n",
        "\n",
        "        model = lgb.LGBMClassifier(\n",
        "            n_estimators=30000,\n",
        "            class_weights='balanced',\n",
        "            learning_rate=0.04,\n",
        "            num_leaves=500,\n",
        "            max_depth=10,\n",
        "            min_child_samples=7,\n",
        "            subsample=0.8,\n",
        "            colsample_bytree=0.5,\n",
        "            reg_alpha=4.8,\n",
        "            reg_lambda=3.3,\n",
        "            max_bin=2000,\n",
        "            random_state=2003,\n",
        "            verbosity=-1,\n",
        "            boosting_type='gbdt',\n",
        "            eval_metric='auc',\n",
        "            metric='auc',\n",
        "            num_threads=4,\n",
        "            importance_type='gain'\n",
        "        )\n",
        "\n",
        "        model.fit(\n",
        "            X_train_fe, y_train,\n",
        "            eval_set=[(X_val_fe, y_val)],\n",
        "            callbacks=[\n",
        "                lgb.early_stopping(300),\n",
        "                lgb.log_evaluation(500)\n",
        "            ]\n",
        "        )\n",
        "\n",
        "        models.append(model)\n",
        "        y_probs += model.predict_proba(X_test_fe)[:, 1] / n_splits\n",
        "\n",
        "    print(\"\\n✅ Cross-validation training complete.\")\n",
        "    return y_probs, models\n",
        "\n",
        "# ==== Example usage ====\n",
        "y_probs, models = train_lightgbm_cv(train, test, target_col='y')\n",
        "\n"
      ],
      "metadata": {
        "trusted": true,
        "execution": {
          "iopub.status.busy": "2025-08-10T20:36:45.647025Z",
          "iopub.execute_input": "2025-08-10T20:36:45.647354Z",
          "iopub.status.idle": "2025-08-10T20:48:49.095109Z",
          "shell.execute_reply.started": "2025-08-10T20:36:45.647333Z",
          "shell.execute_reply": "2025-08-10T20:48:49.093395Z"
        },
        "colab": {
          "base_uri": "https://localhost:8080/",
          "height": 408
        },
        "id": "Zzjt2_Uoh-GB",
        "outputId": "eca49ddc-0d8f-4145-a942-d67f41ef03f8"
      },
      "outputs": [
        {
          "output_type": "stream",
          "name": "stdout",
          "text": [
            "\n",
            "🔹 Training fold 1/5 >>>\n",
            "Training until validation scores don't improve for 300 rounds\n",
            "[500]\tvalid_0's auc: 0.971096\n"
          ]
        },
        {
          "output_type": "error",
          "ename": "KeyboardInterrupt",
          "evalue": "",
          "traceback": [
            "\u001b[0;31m---------------------------------------------------------------------------\u001b[0m",
            "\u001b[0;31mKeyboardInterrupt\u001b[0m                         Traceback (most recent call last)",
            "\u001b[0;32m/tmp/ipykernel_84/2382580402.py\u001b[0m in \u001b[0;36m<cell line: 0>\u001b[0;34m()\u001b[0m\n\u001b[1;32m     60\u001b[0m \u001b[0;34m\u001b[0m\u001b[0m\n\u001b[1;32m     61\u001b[0m \u001b[0;31m# ==== Example usage ====\u001b[0m\u001b[0;34m\u001b[0m\u001b[0;34m\u001b[0m\u001b[0m\n\u001b[0;32m---> 62\u001b[0;31m \u001b[0my_probs\u001b[0m\u001b[0;34m,\u001b[0m \u001b[0mmodels\u001b[0m \u001b[0;34m=\u001b[0m \u001b[0mtrain_lightgbm_cv\u001b[0m\u001b[0;34m(\u001b[0m\u001b[0mtrain\u001b[0m\u001b[0;34m,\u001b[0m \u001b[0mtest\u001b[0m\u001b[0;34m,\u001b[0m \u001b[0mtarget_col\u001b[0m\u001b[0;34m=\u001b[0m\u001b[0;34m'y'\u001b[0m\u001b[0;34m)\u001b[0m\u001b[0;34m\u001b[0m\u001b[0;34m\u001b[0m\u001b[0m\n\u001b[0m\u001b[1;32m     63\u001b[0m \u001b[0;34m\u001b[0m\u001b[0m\n",
            "\u001b[0;32m/tmp/ipykernel_84/2382580402.py\u001b[0m in \u001b[0;36mtrain_lightgbm_cv\u001b[0;34m(train, test, target_col)\u001b[0m\n\u001b[1;32m     44\u001b[0m         )\n\u001b[1;32m     45\u001b[0m \u001b[0;34m\u001b[0m\u001b[0m\n\u001b[0;32m---> 46\u001b[0;31m         model.fit(\n\u001b[0m\u001b[1;32m     47\u001b[0m             \u001b[0mX_train_fe\u001b[0m\u001b[0;34m,\u001b[0m \u001b[0my_train\u001b[0m\u001b[0;34m,\u001b[0m\u001b[0;34m\u001b[0m\u001b[0;34m\u001b[0m\u001b[0m\n\u001b[1;32m     48\u001b[0m             \u001b[0meval_set\u001b[0m\u001b[0;34m=\u001b[0m\u001b[0;34m[\u001b[0m\u001b[0;34m(\u001b[0m\u001b[0mX_val_fe\u001b[0m\u001b[0;34m,\u001b[0m \u001b[0my_val\u001b[0m\u001b[0;34m)\u001b[0m\u001b[0;34m]\u001b[0m\u001b[0;34m,\u001b[0m\u001b[0;34m\u001b[0m\u001b[0;34m\u001b[0m\u001b[0m\n",
            "\u001b[0;32m/usr/local/lib/python3.11/dist-packages/lightgbm/sklearn.py\u001b[0m in \u001b[0;36mfit\u001b[0;34m(self, X, y, sample_weight, init_score, eval_set, eval_names, eval_sample_weight, eval_class_weight, eval_init_score, eval_metric, feature_name, categorical_feature, callbacks, init_model)\u001b[0m\n\u001b[1;32m   1282\u001b[0m                     \u001b[0mvalid_sets\u001b[0m\u001b[0;34m.\u001b[0m\u001b[0mappend\u001b[0m\u001b[0;34m(\u001b[0m\u001b[0;34m(\u001b[0m\u001b[0mvalid_x\u001b[0m\u001b[0;34m,\u001b[0m \u001b[0mself\u001b[0m\u001b[0;34m.\u001b[0m\u001b[0m_le\u001b[0m\u001b[0;34m.\u001b[0m\u001b[0mtransform\u001b[0m\u001b[0;34m(\u001b[0m\u001b[0mvalid_y\u001b[0m\u001b[0;34m)\u001b[0m\u001b[0;34m)\u001b[0m\u001b[0;34m)\u001b[0m\u001b[0;34m\u001b[0m\u001b[0;34m\u001b[0m\u001b[0m\n\u001b[1;32m   1283\u001b[0m \u001b[0;34m\u001b[0m\u001b[0m\n\u001b[0;32m-> 1284\u001b[0;31m         super().fit(\n\u001b[0m\u001b[1;32m   1285\u001b[0m             \u001b[0mX\u001b[0m\u001b[0;34m,\u001b[0m\u001b[0;34m\u001b[0m\u001b[0;34m\u001b[0m\u001b[0m\n\u001b[1;32m   1286\u001b[0m             \u001b[0m_y\u001b[0m\u001b[0;34m,\u001b[0m\u001b[0;34m\u001b[0m\u001b[0;34m\u001b[0m\u001b[0m\n",
            "\u001b[0;32m/usr/local/lib/python3.11/dist-packages/lightgbm/sklearn.py\u001b[0m in \u001b[0;36mfit\u001b[0;34m(self, X, y, sample_weight, init_score, group, eval_set, eval_names, eval_sample_weight, eval_class_weight, eval_init_score, eval_group, eval_metric, feature_name, categorical_feature, callbacks, init_model)\u001b[0m\n\u001b[1;32m    953\u001b[0m         \u001b[0mcallbacks\u001b[0m\u001b[0;34m.\u001b[0m\u001b[0mappend\u001b[0m\u001b[0;34m(\u001b[0m\u001b[0mrecord_evaluation\u001b[0m\u001b[0;34m(\u001b[0m\u001b[0mevals_result\u001b[0m\u001b[0;34m)\u001b[0m\u001b[0;34m)\u001b[0m\u001b[0;34m\u001b[0m\u001b[0;34m\u001b[0m\u001b[0m\n\u001b[1;32m    954\u001b[0m \u001b[0;34m\u001b[0m\u001b[0m\n\u001b[0;32m--> 955\u001b[0;31m         self._Booster = train(\n\u001b[0m\u001b[1;32m    956\u001b[0m             \u001b[0mparams\u001b[0m\u001b[0;34m=\u001b[0m\u001b[0mparams\u001b[0m\u001b[0;34m,\u001b[0m\u001b[0;34m\u001b[0m\u001b[0;34m\u001b[0m\u001b[0m\n\u001b[1;32m    957\u001b[0m             \u001b[0mtrain_set\u001b[0m\u001b[0;34m=\u001b[0m\u001b[0mtrain_set\u001b[0m\u001b[0;34m,\u001b[0m\u001b[0;34m\u001b[0m\u001b[0;34m\u001b[0m\u001b[0m\n",
            "\u001b[0;32m/usr/local/lib/python3.11/dist-packages/lightgbm/engine.py\u001b[0m in \u001b[0;36mtrain\u001b[0;34m(params, train_set, num_boost_round, valid_sets, valid_names, feval, init_model, feature_name, categorical_feature, keep_training_booster, callbacks)\u001b[0m\n\u001b[1;32m    312\u001b[0m             \u001b[0;32mif\u001b[0m \u001b[0mis_valid_contain_train\u001b[0m\u001b[0;34m:\u001b[0m\u001b[0;34m\u001b[0m\u001b[0;34m\u001b[0m\u001b[0m\n\u001b[1;32m    313\u001b[0m                 \u001b[0mevaluation_result_list\u001b[0m\u001b[0;34m.\u001b[0m\u001b[0mextend\u001b[0m\u001b[0;34m(\u001b[0m\u001b[0mbooster\u001b[0m\u001b[0;34m.\u001b[0m\u001b[0meval_train\u001b[0m\u001b[0;34m(\u001b[0m\u001b[0mfeval\u001b[0m\u001b[0;34m)\u001b[0m\u001b[0;34m)\u001b[0m\u001b[0;34m\u001b[0m\u001b[0;34m\u001b[0m\u001b[0m\n\u001b[0;32m--> 314\u001b[0;31m             \u001b[0mevaluation_result_list\u001b[0m\u001b[0;34m.\u001b[0m\u001b[0mextend\u001b[0m\u001b[0;34m(\u001b[0m\u001b[0mbooster\u001b[0m\u001b[0;34m.\u001b[0m\u001b[0meval_valid\u001b[0m\u001b[0;34m(\u001b[0m\u001b[0mfeval\u001b[0m\u001b[0;34m)\u001b[0m\u001b[0;34m)\u001b[0m\u001b[0;34m\u001b[0m\u001b[0;34m\u001b[0m\u001b[0m\n\u001b[0m\u001b[1;32m    315\u001b[0m         \u001b[0;32mtry\u001b[0m\u001b[0;34m:\u001b[0m\u001b[0;34m\u001b[0m\u001b[0;34m\u001b[0m\u001b[0m\n\u001b[1;32m    316\u001b[0m             \u001b[0;32mfor\u001b[0m \u001b[0mcb\u001b[0m \u001b[0;32min\u001b[0m \u001b[0mcallbacks_after_iter\u001b[0m\u001b[0;34m:\u001b[0m\u001b[0;34m\u001b[0m\u001b[0;34m\u001b[0m\u001b[0m\n",
            "\u001b[0;32m/usr/local/lib/python3.11/dist-packages/lightgbm/basic.py\u001b[0m in \u001b[0;36meval_valid\u001b[0;34m(self, feval)\u001b[0m\n\u001b[1;32m   4421\u001b[0m             \u001b[0mList\u001b[0m \u001b[0;32mwith\u001b[0m \u001b[0;34m(\u001b[0m\u001b[0mvalidation_dataset_name\u001b[0m\u001b[0;34m,\u001b[0m \u001b[0meval_name\u001b[0m\u001b[0;34m,\u001b[0m \u001b[0meval_result\u001b[0m\u001b[0;34m,\u001b[0m \u001b[0mis_higher_better\u001b[0m\u001b[0;34m)\u001b[0m \u001b[0mtuples\u001b[0m\u001b[0;34m.\u001b[0m\u001b[0;34m\u001b[0m\u001b[0;34m\u001b[0m\u001b[0m\n\u001b[1;32m   4422\u001b[0m         \"\"\"\n\u001b[0;32m-> 4423\u001b[0;31m         return [\n\u001b[0m\u001b[1;32m   4424\u001b[0m             \u001b[0mitem\u001b[0m\u001b[0;34m\u001b[0m\u001b[0;34m\u001b[0m\u001b[0m\n\u001b[1;32m   4425\u001b[0m             \u001b[0;32mfor\u001b[0m \u001b[0mi\u001b[0m \u001b[0;32min\u001b[0m \u001b[0mrange\u001b[0m\u001b[0;34m(\u001b[0m\u001b[0;36m1\u001b[0m\u001b[0;34m,\u001b[0m \u001b[0mself\u001b[0m\u001b[0;34m.\u001b[0m\u001b[0m__num_dataset\u001b[0m\u001b[0;34m)\u001b[0m\u001b[0;34m\u001b[0m\u001b[0;34m\u001b[0m\u001b[0m\n",
            "\u001b[0;32m/usr/local/lib/python3.11/dist-packages/lightgbm/basic.py\u001b[0m in \u001b[0;36m<listcomp>\u001b[0;34m(.0)\u001b[0m\n\u001b[1;32m   4424\u001b[0m             \u001b[0mitem\u001b[0m\u001b[0;34m\u001b[0m\u001b[0;34m\u001b[0m\u001b[0m\n\u001b[1;32m   4425\u001b[0m             \u001b[0;32mfor\u001b[0m \u001b[0mi\u001b[0m \u001b[0;32min\u001b[0m \u001b[0mrange\u001b[0m\u001b[0;34m(\u001b[0m\u001b[0;36m1\u001b[0m\u001b[0;34m,\u001b[0m \u001b[0mself\u001b[0m\u001b[0;34m.\u001b[0m\u001b[0m__num_dataset\u001b[0m\u001b[0;34m)\u001b[0m\u001b[0;34m\u001b[0m\u001b[0;34m\u001b[0m\u001b[0m\n\u001b[0;32m-> 4426\u001b[0;31m             \u001b[0;32mfor\u001b[0m \u001b[0mitem\u001b[0m \u001b[0;32min\u001b[0m \u001b[0mself\u001b[0m\u001b[0;34m.\u001b[0m\u001b[0m__inner_eval\u001b[0m\u001b[0;34m(\u001b[0m\u001b[0mself\u001b[0m\u001b[0;34m.\u001b[0m\u001b[0mname_valid_sets\u001b[0m\u001b[0;34m[\u001b[0m\u001b[0mi\u001b[0m \u001b[0;34m-\u001b[0m \u001b[0;36m1\u001b[0m\u001b[0;34m]\u001b[0m\u001b[0;34m,\u001b[0m \u001b[0mi\u001b[0m\u001b[0;34m,\u001b[0m \u001b[0mfeval\u001b[0m\u001b[0;34m)\u001b[0m\u001b[0;34m\u001b[0m\u001b[0;34m\u001b[0m\u001b[0m\n\u001b[0m\u001b[1;32m   4427\u001b[0m         ]\n\u001b[1;32m   4428\u001b[0m \u001b[0;34m\u001b[0m\u001b[0m\n",
            "\u001b[0;32m/usr/local/lib/python3.11/dist-packages/lightgbm/basic.py\u001b[0m in \u001b[0;36m__inner_eval\u001b[0;34m(self, data_name, data_idx, feval)\u001b[0m\n\u001b[1;32m   5164\u001b[0m             \u001b[0mtmp_out_len\u001b[0m \u001b[0;34m=\u001b[0m \u001b[0mctypes\u001b[0m\u001b[0;34m.\u001b[0m\u001b[0mc_int\u001b[0m\u001b[0;34m(\u001b[0m\u001b[0;36m0\u001b[0m\u001b[0;34m)\u001b[0m\u001b[0;34m\u001b[0m\u001b[0;34m\u001b[0m\u001b[0m\n\u001b[1;32m   5165\u001b[0m             _safe_call(\n\u001b[0;32m-> 5166\u001b[0;31m                 _LIB.LGBM_BoosterGetEval(\n\u001b[0m\u001b[1;32m   5167\u001b[0m                     \u001b[0mself\u001b[0m\u001b[0;34m.\u001b[0m\u001b[0m_handle\u001b[0m\u001b[0;34m,\u001b[0m\u001b[0;34m\u001b[0m\u001b[0;34m\u001b[0m\u001b[0m\n\u001b[1;32m   5168\u001b[0m                     \u001b[0mctypes\u001b[0m\u001b[0;34m.\u001b[0m\u001b[0mc_int\u001b[0m\u001b[0;34m(\u001b[0m\u001b[0mdata_idx\u001b[0m\u001b[0;34m)\u001b[0m\u001b[0;34m,\u001b[0m\u001b[0;34m\u001b[0m\u001b[0;34m\u001b[0m\u001b[0m\n",
            "\u001b[0;31mKeyboardInterrupt\u001b[0m: "
          ]
        }
      ],
      "execution_count": null
    },
    {
      "cell_type": "markdown",
      "source": [
        "##Model Training: Light-gbm Training\n"
      ],
      "metadata": {
        "id": "VfRZBRRMh-GC"
      }
    },
    {
      "cell_type": "code",
      "source": [
        "import lightgbm as lgb\n",
        "from sklearn.model_selection import StratifiedKFold\n",
        "\n",
        "target_col = \"y\"\n",
        "\n",
        "# Prepare X and y\n",
        "X = train.drop(columns=[target_col])\n",
        "y = train[target_col]\n",
        "X_test = test.copy()\n",
        "\n",
        "n_splits = 5\n",
        "kf = StratifiedKFold(n_splits=n_splits, shuffle=True, random_state=42)\n",
        "\n",
        "y_preds = np.zeros(len(X_test))\n",
        "models = []\n",
        "\n",
        "for fold, (train_idx, val_idx) in enumerate(kf.split(X, y)):\n",
        "    print(f\"\\nFold {fold+1}/{n_splits}\")\n",
        "\n",
        "    X_train, y_train = X.iloc[train_idx], y.iloc[train_idx]\n",
        "    X_val, y_val = X.iloc[val_idx], y.iloc[val_idx]\n",
        "\n",
        "    # Feature engineering\n",
        "    X_train_fe = add_features_numeric_only(X_train)\n",
        "    X_val_fe = add_features_numeric_only(X_val)\n",
        "    X_test_fe = add_features_numeric_only(X_test)\n",
        "\n",
        "    # LightGBM classifier\n",
        "    model = lgb.LGBMClassifier(\n",
        "        n_estimators=20000,\n",
        "        learning_rate=0.06,\n",
        "        num_leaves=100,\n",
        "        max_depth=30,\n",
        "        min_child_samples=15,\n",
        "        subsample=0.8,\n",
        "        colsample_bytree=0.5,\n",
        "        reg_alpha=0.8,\n",
        "        reg_lambda=3.3,\n",
        "        max_bin=8000,\n",
        "        random_state=1003,\n",
        "        verbosity=-1,\n",
        "        boosting_type='gbdt',\n",
        "        eval_metric='auc',\n",
        "        metric='auc',\n",
        "        num_threads=4,\n",
        "        importance_type='gain'\n",
        "    )\n",
        "\n",
        "    model.fit(\n",
        "        X_train_fe, y_train,\n",
        "        eval_set=[(X_val_fe, y_val)],\n",
        "        callbacks=[\n",
        "            lgb.early_stopping(300),\n",
        "            lgb.log_evaluation(500)\n",
        "        ]\n",
        "    )\n",
        "\n",
        "    models.append(model)\n",
        "    y_preds += model.predict_proba(X_test_fe)[:, 1] / n_splits\n",
        "\n",
        "print(\"✅ Training complete.\")\n",
        "print(\"Predictions:\", y_preds)\n"
      ],
      "metadata": {
        "trusted": true,
        "execution": {
          "iopub.status.busy": "2025-08-10T20:48:49.590925Z",
          "iopub.execute_input": "2025-08-10T20:48:49.591624Z",
          "execution_failed": "2025-08-10T20:49:23.422Z"
        },
        "id": "bt4AymEHh-GE"
      },
      "outputs": [],
      "execution_count": null
    },
    {
      "cell_type": "markdown",
      "source": [
        "<h1 id=\"intro\"\n",
        "    style=\"\n",
        "  background: linear-gradient(135deg, #0f2027, #203a43, #2c5364);\n",
        "  color: white;\n",
        "  padding: 12px 24px;\n",
        "  border-radius: 12px;\n",
        "  font-size: 22px;\n",
        "  font-weight: bold;\n",
        "  text-align: center;\n",
        "  font-family: Arial, sans-serif;\n",
        "  margin: 20px 0;\">\n",
        "        Submission\n",
        "</h1>"
      ],
      "metadata": {
        "id": "uIbcc7ASh-GF"
      }
    },
    {
      "cell_type": "code",
      "source": [
        "import pandas as pd\n",
        "\n",
        "# Load the test file for 'id' column\n",
        "testify = pd.read_csv(\"/kaggle/input/playground-series-s5e8/test.csv\")\n",
        "\n",
        "# y_probs is already the averaged predictions from all folds\n",
        "submission = pd.DataFrame({\n",
        "    'id': testify['id'],\n",
        "    'target': y_probs  # from CV loop\n",
        "})\n",
        "\n",
        "# Save to CSV\n",
        "submission.to_csv('submission.csv', index=False)\n",
        "\n",
        "print(\"✅ Submission file saved as 'submission.csv'\")\n"
      ],
      "metadata": {
        "trusted": true,
        "execution": {
          "iopub.status.busy": "2025-08-09T07:41:30.193058Z",
          "iopub.execute_input": "2025-08-09T07:41:30.193346Z",
          "iopub.status.idle": "2025-08-09T07:41:30.999295Z",
          "shell.execute_reply.started": "2025-08-09T07:41:30.193324Z",
          "shell.execute_reply": "2025-08-09T07:41:30.998649Z"
        },
        "id": "Frr51e3Xh-GF"
      },
      "outputs": [],
      "execution_count": null
    },
    {
      "cell_type": "code",
      "source": [],
      "metadata": {
        "trusted": true,
        "id": "NZXKDz9Wh-GG"
      },
      "outputs": [],
      "execution_count": null
    },
    {
      "cell_type": "markdown",
      "source": [
        "##ANN training"
      ],
      "metadata": {
        "id": "ZivJs-MZi1aa"
      }
    },
    {
      "cell_type": "code",
      "source": [
        "!pip install keras-tuner"
      ],
      "metadata": {
        "colab": {
          "base_uri": "https://localhost:8080/"
        },
        "id": "86XJ0ScLjH5a",
        "outputId": "04fa9550-e921-4224-fd05-fe8ef39ab86a"
      },
      "execution_count": null,
      "outputs": [
        {
          "output_type": "stream",
          "name": "stdout",
          "text": [
            "Requirement already satisfied: keras-tuner in /usr/local/lib/python3.11/dist-packages (1.4.7)\r\n",
            "Requirement already satisfied: keras in /usr/local/lib/python3.11/dist-packages (from keras-tuner) (3.8.0)\r\n",
            "Requirement already satisfied: packaging in /usr/local/lib/python3.11/dist-packages (from keras-tuner) (25.0)\r\n",
            "Requirement already satisfied: requests in /usr/local/lib/python3.11/dist-packages (from keras-tuner) (2.32.4)\r\n",
            "Requirement already satisfied: kt-legacy in /usr/local/lib/python3.11/dist-packages (from keras-tuner) (1.0.5)\r\n",
            "Requirement already satisfied: absl-py in /usr/local/lib/python3.11/dist-packages (from keras->keras-tuner) (1.4.0)\r\n",
            "Requirement already satisfied: numpy in /usr/local/lib/python3.11/dist-packages (from keras->keras-tuner) (1.26.4)\r\n",
            "Requirement already satisfied: rich in /usr/local/lib/python3.11/dist-packages (from keras->keras-tuner) (14.0.0)\r\n",
            "Requirement already satisfied: namex in /usr/local/lib/python3.11/dist-packages (from keras->keras-tuner) (0.1.0)\r\n",
            "Requirement already satisfied: h5py in /usr/local/lib/python3.11/dist-packages (from keras->keras-tuner) (3.14.0)\n",
            "Requirement already satisfied: optree in /usr/local/lib/python3.11/dist-packages (from keras->keras-tuner) (0.16.0)\n",
            "Requirement already satisfied: ml-dtypes in /usr/local/lib/python3.11/dist-packages (from keras->keras-tuner) (0.4.1)\n",
            "Requirement already satisfied: charset_normalizer<4,>=2 in /usr/local/lib/python3.11/dist-packages (from requests->keras-tuner) (3.4.2)\n",
            "Requirement already satisfied: idna<4,>=2.5 in /usr/local/lib/python3.11/dist-packages (from requests->keras-tuner) (3.10)\n",
            "Requirement already satisfied: urllib3<3,>=1.21.1 in /usr/local/lib/python3.11/dist-packages (from requests->keras-tuner) (2.5.0)\n",
            "Requirement already satisfied: certifi>=2017.4.17 in /usr/local/lib/python3.11/dist-packages (from requests->keras-tuner) (2025.6.15)\n",
            "Requirement already satisfied: mkl_fft in /usr/local/lib/python3.11/dist-packages (from numpy->keras->keras-tuner) (1.3.8)\n",
            "Requirement already satisfied: mkl_random in /usr/local/lib/python3.11/dist-packages (from numpy->keras->keras-tuner) (1.2.4)\n",
            "Requirement already satisfied: mkl_umath in /usr/local/lib/python3.11/dist-packages (from numpy->keras->keras-tuner) (0.1.1)\n",
            "Requirement already satisfied: mkl in /usr/local/lib/python3.11/dist-packages (from numpy->keras->keras-tuner) (2025.2.0)\n",
            "Requirement already satisfied: tbb4py in /usr/local/lib/python3.11/dist-packages (from numpy->keras->keras-tuner) (2022.2.0)\n",
            "Requirement already satisfied: mkl-service in /usr/local/lib/python3.11/dist-packages (from numpy->keras->keras-tuner) (2.4.1)\n",
            "Requirement already satisfied: typing-extensions>=4.6.0 in /usr/local/lib/python3.11/dist-packages (from optree->keras->keras-tuner) (4.14.0)\n",
            "Requirement already satisfied: markdown-it-py>=2.2.0 in /usr/local/lib/python3.11/dist-packages (from rich->keras->keras-tuner) (3.0.0)\n",
            "Requirement already satisfied: pygments<3.0.0,>=2.13.0 in /usr/local/lib/python3.11/dist-packages (from rich->keras->keras-tuner) (2.19.2)\n",
            "Requirement already satisfied: mdurl~=0.1 in /usr/local/lib/python3.11/dist-packages (from markdown-it-py>=2.2.0->rich->keras->keras-tuner) (0.1.2)\n",
            "Requirement already satisfied: intel-openmp<2026,>=2024 in /usr/local/lib/python3.11/dist-packages (from mkl->numpy->keras->keras-tuner) (2024.2.0)\n",
            "Requirement already satisfied: tbb==2022.* in /usr/local/lib/python3.11/dist-packages (from mkl->numpy->keras->keras-tuner) (2022.2.0)\n",
            "Requirement already satisfied: tcmlib==1.* in /usr/local/lib/python3.11/dist-packages (from tbb==2022.*->mkl->numpy->keras->keras-tuner) (1.4.0)\n",
            "Requirement already satisfied: intel-cmplr-lib-rt in /usr/local/lib/python3.11/dist-packages (from mkl_umath->numpy->keras->keras-tuner) (2024.2.0)\n",
            "Requirement already satisfied: intel-cmplr-lib-ur==2024.2.0 in /usr/local/lib/python3.11/dist-packages (from intel-openmp<2026,>=2024->mkl->numpy->keras->keras-tuner) (2024.2.0)\n"
          ]
        }
      ]
    },
    {
      "cell_type": "code",
      "source": [
        "X = train.drop(columns=['y'])\n",
        "y = train['y']\n",
        "X_test = test.copy()\n",
        "\n",
        "X_train, X_val, y_train, y_val = train_test_split(X, y, test_size=0.2, random_state=42)\n",
        "\n",
        "X_train_fe = add_features_numeric_only(X_train)\n",
        "X_val_fe = add_features_numeric_only(X_val)\n",
        "X_test_fe = add_features_numeric_only(X_test)"
      ],
      "metadata": {
        "id": "lXH5DESKjVu9"
      },
      "execution_count": null,
      "outputs": []
    },
    {
      "cell_type": "code",
      "source": [
        "y.shape"
      ],
      "metadata": {
        "colab": {
          "base_uri": "https://localhost:8080/"
        },
        "id": "yPQT8SKykRhg",
        "outputId": "d5b80d85-cad2-40ae-ceb1-cd19f414174a"
      },
      "execution_count": null,
      "outputs": [
        {
          "output_type": "execute_result",
          "data": {
            "text/plain": [
              "(750000,)"
            ]
          },
          "metadata": {},
          "execution_count": 20
        }
      ]
    },
    {
      "cell_type": "code",
      "source": [
        "from tensorflow.keras import Layer\n",
        "from tensorflow.keras import Sequential\n",
        "from tensorflow.keras.layers import Dense, Dropout, BatchNormalization\n",
        "import keras_tuner as kt\n",
        "from tensorflow.keras.optimizers import Adam"
      ],
      "metadata": {
        "id": "Gi6Sc-96ixzY"
      },
      "execution_count": null,
      "outputs": []
    },
    {
      "cell_type": "code",
      "source": [
        "from tensorflow.keras.layers import Dropout\n",
        "def build_model(hp):\n",
        "  model = Sequential()\n",
        "\n",
        "  counter = 0\n",
        "  #We used in if condn to create input layer\n",
        "\n",
        "\n",
        "  for i in range(hp.Int('num_layers',min_value=1,max_value=10)):\n",
        "\n",
        "    if counter == 0:\n",
        "      model.add(Dense(\n",
        "          hp.Int('units' + str(i),min_value=8,max_value=500,step=8),\n",
        "          activation= hp.Choice('activation'+ str(i), values=['relu','tanh','sigmoid']),\n",
        "          input_dim=59 ))\n",
        "      model.add(Dropout(hp.Choice('dropout'+str(i), values=[0.1,0.2,0.4,0.5,0.6,0.7,0.8,0.9])))\n",
        "\n",
        "    else:\n",
        "      model.add(Dense(\n",
        "          hp.Int('units' + str(i),min_value=8,max_value=500,step=8),\n",
        "          activation= hp.Choice('activation'+ str(i), values=['relu','tanh','sigmoid'])))\n",
        "      model.add(Dropout(hp.Choice('dropout'+str(i), values=[0.1,0.2,0.4,0.5,0.6,0.7,0.8,0.9])))\n",
        "    counter += 1\n",
        "\n",
        "  model.add(Dense(1,activation='sigmoid'))\n",
        "  model.compile(optimizer=hp.Choice('optimizer',['adam','sgd','rmsprop','adadelta']),\n",
        "                loss='binary_crossentropy', metrics=['accuracy'])\n",
        "\n",
        "  return model"
      ],
      "metadata": {
        "id": "nX2B1Y8MjDza"
      },
      "execution_count": null,
      "outputs": []
    },
    {
      "cell_type": "code",
      "source": [
        "tuner = kt.RandomSearch(build_model,\n",
        "                        objective='val_accuracy',\n",
        "                        max_trials=7,\n",
        "                        directory='mydir',\n",
        "                        project_name='bic')"
      ],
      "metadata": {
        "colab": {
          "base_uri": "https://localhost:8080/"
        },
        "id": "0eEcWQ4ukmhh",
        "outputId": "351ab4fb-60b0-4477-8ad4-ed3595eb40b2"
      },
      "execution_count": null,
      "outputs": [
        {
          "output_type": "stream",
          "name": "stderr",
          "text": [
            "I0000 00:00:1754906447.670675      84 gpu_device.cc:2022] Created device /job:localhost/replica:0/task:0/device:GPU:0 with 13942 MB memory:  -> device: 0, name: Tesla T4, pci bus id: 0000:00:04.0, compute capability: 7.5\n",
            "I0000 00:00:1754906447.671278      84 gpu_device.cc:2022] Created device /job:localhost/replica:0/task:0/device:GPU:1 with 13942 MB memory:  -> device: 1, name: Tesla T4, pci bus id: 0000:00:05.0, compute capability: 7.5\n",
            "/usr/local/lib/python3.11/dist-packages/keras/src/layers/core/dense.py:87: UserWarning: Do not pass an `input_shape`/`input_dim` argument to a layer. When using Sequential models, prefer using an `Input(shape)` object as the first layer in the model instead.\n",
            "  super().__init__(activity_regularizer=activity_regularizer, **kwargs)\n"
          ]
        }
      ]
    },
    {
      "cell_type": "code",
      "source": [
        "tuner.search(X_train_fe, y_train, epochs=7, validation_data=(X_val_fe, y_val))"
      ],
      "metadata": {
        "colab": {
          "base_uri": "https://localhost:8080/"
        },
        "id": "U7P4lgyok1w1",
        "outputId": "fa80d0c9-7e49-4949-98f4-53493d5ac2c0"
      },
      "execution_count": null,
      "outputs": [
        {
          "output_type": "stream",
          "name": "stdout",
          "text": [
            "Trial 7 Complete [00h 06m 39s]\n",
            "val_accuracy: 0.8786333203315735\n",
            "\n",
            "Best val_accuracy So Far: 0.8786333203315735\n",
            "Total elapsed time: 00h 37m 54s\n"
          ]
        }
      ]
    },
    {
      "cell_type": "code",
      "source": [
        "from tensorflow.keras.callbacks import EarlyStopping\n",
        "callback = EarlyStopping(monitor='val_accuracy',patience=20, restore_best_weights=True)\n"
      ],
      "metadata": {
        "id": "FJt3l28xmD5K"
      },
      "execution_count": null,
      "outputs": []
    },
    {
      "cell_type": "code",
      "source": [
        "model = tuner.get_best_models(num_models=1)[0]\n",
        "\n",
        "model.summary()"
      ],
      "metadata": {
        "colab": {
          "base_uri": "https://localhost:8080/",
          "height": 939
        },
        "id": "wM8G7ziwmFnQ",
        "outputId": "8c6549e0-576b-44c2-8203-e4b41cc3eae5"
      },
      "execution_count": null,
      "outputs": [
        {
          "output_type": "stream",
          "name": "stderr",
          "text": [
            "/usr/local/lib/python3.11/dist-packages/keras/src/layers/core/dense.py:87: UserWarning: Do not pass an `input_shape`/`input_dim` argument to a layer. When using Sequential models, prefer using an `Input(shape)` object as the first layer in the model instead.\n",
            "  super().__init__(activity_regularizer=activity_regularizer, **kwargs)\n",
            "/usr/local/lib/python3.11/dist-packages/keras/src/saving/saving_lib.py:757: UserWarning: Skipping variable loading for optimizer 'adam', because it has 2 variables whereas the saved optimizer has 46 variables. \n",
            "  saveable.load_own_variables(weights_store.get(inner_path))\n"
          ]
        },
        {
          "output_type": "display_data",
          "data": {
            "text/plain": [
              "\u001b[1mModel: \"sequential\"\u001b[0m\n"
            ],
            "text/html": [
              "<pre style=\"white-space:pre;overflow-x:auto;line-height:normal;font-family:Menlo,'DejaVu Sans Mono',consolas,'Courier New',monospace\"><span style=\"font-weight: bold\">Model: \"sequential\"</span>\n",
              "</pre>\n"
            ]
          },
          "metadata": {}
        },
        {
          "output_type": "display_data",
          "data": {
            "text/plain": [
              "┏━━━━━━━━━━━━━━━━━━━━━━━━━━━━━━━━━┳━━━━━━━━━━━━━━━━━━━━━━━━┳━━━━━━━━━━━━━━━┓\n",
              "┃\u001b[1m \u001b[0m\u001b[1mLayer (type)                   \u001b[0m\u001b[1m \u001b[0m┃\u001b[1m \u001b[0m\u001b[1mOutput Shape          \u001b[0m\u001b[1m \u001b[0m┃\u001b[1m \u001b[0m\u001b[1m      Param #\u001b[0m\u001b[1m \u001b[0m┃\n",
              "┡━━━━━━━━━━━━━━━━━━━━━━━━━━━━━━━━━╇━━━━━━━━━━━━━━━━━━━━━━━━╇━━━━━━━━━━━━━━━┩\n",
              "│ dense (\u001b[38;5;33mDense\u001b[0m)                   │ (\u001b[38;5;45mNone\u001b[0m, \u001b[38;5;34m216\u001b[0m)            │        \u001b[38;5;34m12,960\u001b[0m │\n",
              "├─────────────────────────────────┼────────────────────────┼───────────────┤\n",
              "│ dropout (\u001b[38;5;33mDropout\u001b[0m)               │ (\u001b[38;5;45mNone\u001b[0m, \u001b[38;5;34m216\u001b[0m)            │             \u001b[38;5;34m0\u001b[0m │\n",
              "├─────────────────────────────────┼────────────────────────┼───────────────┤\n",
              "│ dense_1 (\u001b[38;5;33mDense\u001b[0m)                 │ (\u001b[38;5;45mNone\u001b[0m, \u001b[38;5;34m464\u001b[0m)            │       \u001b[38;5;34m100,688\u001b[0m │\n",
              "├─────────────────────────────────┼────────────────────────┼───────────────┤\n",
              "│ dropout_1 (\u001b[38;5;33mDropout\u001b[0m)             │ (\u001b[38;5;45mNone\u001b[0m, \u001b[38;5;34m464\u001b[0m)            │             \u001b[38;5;34m0\u001b[0m │\n",
              "├─────────────────────────────────┼────────────────────────┼───────────────┤\n",
              "│ dense_2 (\u001b[38;5;33mDense\u001b[0m)                 │ (\u001b[38;5;45mNone\u001b[0m, \u001b[38;5;34m80\u001b[0m)             │        \u001b[38;5;34m37,200\u001b[0m │\n",
              "├─────────────────────────────────┼────────────────────────┼───────────────┤\n",
              "│ dropout_2 (\u001b[38;5;33mDropout\u001b[0m)             │ (\u001b[38;5;45mNone\u001b[0m, \u001b[38;5;34m80\u001b[0m)             │             \u001b[38;5;34m0\u001b[0m │\n",
              "├─────────────────────────────────┼────────────────────────┼───────────────┤\n",
              "│ dense_3 (\u001b[38;5;33mDense\u001b[0m)                 │ (\u001b[38;5;45mNone\u001b[0m, \u001b[38;5;34m392\u001b[0m)            │        \u001b[38;5;34m31,752\u001b[0m │\n",
              "├─────────────────────────────────┼────────────────────────┼───────────────┤\n",
              "│ dropout_3 (\u001b[38;5;33mDropout\u001b[0m)             │ (\u001b[38;5;45mNone\u001b[0m, \u001b[38;5;34m392\u001b[0m)            │             \u001b[38;5;34m0\u001b[0m │\n",
              "├─────────────────────────────────┼────────────────────────┼───────────────┤\n",
              "│ dense_4 (\u001b[38;5;33mDense\u001b[0m)                 │ (\u001b[38;5;45mNone\u001b[0m, \u001b[38;5;34m40\u001b[0m)             │        \u001b[38;5;34m15,720\u001b[0m │\n",
              "├─────────────────────────────────┼────────────────────────┼───────────────┤\n",
              "│ dropout_4 (\u001b[38;5;33mDropout\u001b[0m)             │ (\u001b[38;5;45mNone\u001b[0m, \u001b[38;5;34m40\u001b[0m)             │             \u001b[38;5;34m0\u001b[0m │\n",
              "├─────────────────────────────────┼────────────────────────┼───────────────┤\n",
              "│ dense_5 (\u001b[38;5;33mDense\u001b[0m)                 │ (\u001b[38;5;45mNone\u001b[0m, \u001b[38;5;34m8\u001b[0m)              │           \u001b[38;5;34m328\u001b[0m │\n",
              "├─────────────────────────────────┼────────────────────────┼───────────────┤\n",
              "│ dropout_5 (\u001b[38;5;33mDropout\u001b[0m)             │ (\u001b[38;5;45mNone\u001b[0m, \u001b[38;5;34m8\u001b[0m)              │             \u001b[38;5;34m0\u001b[0m │\n",
              "├─────────────────────────────────┼────────────────────────┼───────────────┤\n",
              "│ dense_6 (\u001b[38;5;33mDense\u001b[0m)                 │ (\u001b[38;5;45mNone\u001b[0m, \u001b[38;5;34m8\u001b[0m)              │            \u001b[38;5;34m72\u001b[0m │\n",
              "├─────────────────────────────────┼────────────────────────┼───────────────┤\n",
              "│ dropout_6 (\u001b[38;5;33mDropout\u001b[0m)             │ (\u001b[38;5;45mNone\u001b[0m, \u001b[38;5;34m8\u001b[0m)              │             \u001b[38;5;34m0\u001b[0m │\n",
              "├─────────────────────────────────┼────────────────────────┼───────────────┤\n",
              "│ dense_7 (\u001b[38;5;33mDense\u001b[0m)                 │ (\u001b[38;5;45mNone\u001b[0m, \u001b[38;5;34m8\u001b[0m)              │            \u001b[38;5;34m72\u001b[0m │\n",
              "├─────────────────────────────────┼────────────────────────┼───────────────┤\n",
              "│ dropout_7 (\u001b[38;5;33mDropout\u001b[0m)             │ (\u001b[38;5;45mNone\u001b[0m, \u001b[38;5;34m8\u001b[0m)              │             \u001b[38;5;34m0\u001b[0m │\n",
              "├─────────────────────────────────┼────────────────────────┼───────────────┤\n",
              "│ dense_8 (\u001b[38;5;33mDense\u001b[0m)                 │ (\u001b[38;5;45mNone\u001b[0m, \u001b[38;5;34m8\u001b[0m)              │            \u001b[38;5;34m72\u001b[0m │\n",
              "├─────────────────────────────────┼────────────────────────┼───────────────┤\n",
              "│ dropout_8 (\u001b[38;5;33mDropout\u001b[0m)             │ (\u001b[38;5;45mNone\u001b[0m, \u001b[38;5;34m8\u001b[0m)              │             \u001b[38;5;34m0\u001b[0m │\n",
              "├─────────────────────────────────┼────────────────────────┼───────────────┤\n",
              "│ dense_9 (\u001b[38;5;33mDense\u001b[0m)                 │ (\u001b[38;5;45mNone\u001b[0m, \u001b[38;5;34m8\u001b[0m)              │            \u001b[38;5;34m72\u001b[0m │\n",
              "├─────────────────────────────────┼────────────────────────┼───────────────┤\n",
              "│ dropout_9 (\u001b[38;5;33mDropout\u001b[0m)             │ (\u001b[38;5;45mNone\u001b[0m, \u001b[38;5;34m8\u001b[0m)              │             \u001b[38;5;34m0\u001b[0m │\n",
              "├─────────────────────────────────┼────────────────────────┼───────────────┤\n",
              "│ dense_10 (\u001b[38;5;33mDense\u001b[0m)                │ (\u001b[38;5;45mNone\u001b[0m, \u001b[38;5;34m1\u001b[0m)              │             \u001b[38;5;34m9\u001b[0m │\n",
              "└─────────────────────────────────┴────────────────────────┴───────────────┘\n"
            ],
            "text/html": [
              "<pre style=\"white-space:pre;overflow-x:auto;line-height:normal;font-family:Menlo,'DejaVu Sans Mono',consolas,'Courier New',monospace\">┏━━━━━━━━━━━━━━━━━━━━━━━━━━━━━━━━━┳━━━━━━━━━━━━━━━━━━━━━━━━┳━━━━━━━━━━━━━━━┓\n",
              "┃<span style=\"font-weight: bold\"> Layer (type)                    </span>┃<span style=\"font-weight: bold\"> Output Shape           </span>┃<span style=\"font-weight: bold\">       Param # </span>┃\n",
              "┡━━━━━━━━━━━━━━━━━━━━━━━━━━━━━━━━━╇━━━━━━━━━━━━━━━━━━━━━━━━╇━━━━━━━━━━━━━━━┩\n",
              "│ dense (<span style=\"color: #0087ff; text-decoration-color: #0087ff\">Dense</span>)                   │ (<span style=\"color: #00d7ff; text-decoration-color: #00d7ff\">None</span>, <span style=\"color: #00af00; text-decoration-color: #00af00\">216</span>)            │        <span style=\"color: #00af00; text-decoration-color: #00af00\">12,960</span> │\n",
              "├─────────────────────────────────┼────────────────────────┼───────────────┤\n",
              "│ dropout (<span style=\"color: #0087ff; text-decoration-color: #0087ff\">Dropout</span>)               │ (<span style=\"color: #00d7ff; text-decoration-color: #00d7ff\">None</span>, <span style=\"color: #00af00; text-decoration-color: #00af00\">216</span>)            │             <span style=\"color: #00af00; text-decoration-color: #00af00\">0</span> │\n",
              "├─────────────────────────────────┼────────────────────────┼───────────────┤\n",
              "│ dense_1 (<span style=\"color: #0087ff; text-decoration-color: #0087ff\">Dense</span>)                 │ (<span style=\"color: #00d7ff; text-decoration-color: #00d7ff\">None</span>, <span style=\"color: #00af00; text-decoration-color: #00af00\">464</span>)            │       <span style=\"color: #00af00; text-decoration-color: #00af00\">100,688</span> │\n",
              "├─────────────────────────────────┼────────────────────────┼───────────────┤\n",
              "│ dropout_1 (<span style=\"color: #0087ff; text-decoration-color: #0087ff\">Dropout</span>)             │ (<span style=\"color: #00d7ff; text-decoration-color: #00d7ff\">None</span>, <span style=\"color: #00af00; text-decoration-color: #00af00\">464</span>)            │             <span style=\"color: #00af00; text-decoration-color: #00af00\">0</span> │\n",
              "├─────────────────────────────────┼────────────────────────┼───────────────┤\n",
              "│ dense_2 (<span style=\"color: #0087ff; text-decoration-color: #0087ff\">Dense</span>)                 │ (<span style=\"color: #00d7ff; text-decoration-color: #00d7ff\">None</span>, <span style=\"color: #00af00; text-decoration-color: #00af00\">80</span>)             │        <span style=\"color: #00af00; text-decoration-color: #00af00\">37,200</span> │\n",
              "├─────────────────────────────────┼────────────────────────┼───────────────┤\n",
              "│ dropout_2 (<span style=\"color: #0087ff; text-decoration-color: #0087ff\">Dropout</span>)             │ (<span style=\"color: #00d7ff; text-decoration-color: #00d7ff\">None</span>, <span style=\"color: #00af00; text-decoration-color: #00af00\">80</span>)             │             <span style=\"color: #00af00; text-decoration-color: #00af00\">0</span> │\n",
              "├─────────────────────────────────┼────────────────────────┼───────────────┤\n",
              "│ dense_3 (<span style=\"color: #0087ff; text-decoration-color: #0087ff\">Dense</span>)                 │ (<span style=\"color: #00d7ff; text-decoration-color: #00d7ff\">None</span>, <span style=\"color: #00af00; text-decoration-color: #00af00\">392</span>)            │        <span style=\"color: #00af00; text-decoration-color: #00af00\">31,752</span> │\n",
              "├─────────────────────────────────┼────────────────────────┼───────────────┤\n",
              "│ dropout_3 (<span style=\"color: #0087ff; text-decoration-color: #0087ff\">Dropout</span>)             │ (<span style=\"color: #00d7ff; text-decoration-color: #00d7ff\">None</span>, <span style=\"color: #00af00; text-decoration-color: #00af00\">392</span>)            │             <span style=\"color: #00af00; text-decoration-color: #00af00\">0</span> │\n",
              "├─────────────────────────────────┼────────────────────────┼───────────────┤\n",
              "│ dense_4 (<span style=\"color: #0087ff; text-decoration-color: #0087ff\">Dense</span>)                 │ (<span style=\"color: #00d7ff; text-decoration-color: #00d7ff\">None</span>, <span style=\"color: #00af00; text-decoration-color: #00af00\">40</span>)             │        <span style=\"color: #00af00; text-decoration-color: #00af00\">15,720</span> │\n",
              "├─────────────────────────────────┼────────────────────────┼───────────────┤\n",
              "│ dropout_4 (<span style=\"color: #0087ff; text-decoration-color: #0087ff\">Dropout</span>)             │ (<span style=\"color: #00d7ff; text-decoration-color: #00d7ff\">None</span>, <span style=\"color: #00af00; text-decoration-color: #00af00\">40</span>)             │             <span style=\"color: #00af00; text-decoration-color: #00af00\">0</span> │\n",
              "├─────────────────────────────────┼────────────────────────┼───────────────┤\n",
              "│ dense_5 (<span style=\"color: #0087ff; text-decoration-color: #0087ff\">Dense</span>)                 │ (<span style=\"color: #00d7ff; text-decoration-color: #00d7ff\">None</span>, <span style=\"color: #00af00; text-decoration-color: #00af00\">8</span>)              │           <span style=\"color: #00af00; text-decoration-color: #00af00\">328</span> │\n",
              "├─────────────────────────────────┼────────────────────────┼───────────────┤\n",
              "│ dropout_5 (<span style=\"color: #0087ff; text-decoration-color: #0087ff\">Dropout</span>)             │ (<span style=\"color: #00d7ff; text-decoration-color: #00d7ff\">None</span>, <span style=\"color: #00af00; text-decoration-color: #00af00\">8</span>)              │             <span style=\"color: #00af00; text-decoration-color: #00af00\">0</span> │\n",
              "├─────────────────────────────────┼────────────────────────┼───────────────┤\n",
              "│ dense_6 (<span style=\"color: #0087ff; text-decoration-color: #0087ff\">Dense</span>)                 │ (<span style=\"color: #00d7ff; text-decoration-color: #00d7ff\">None</span>, <span style=\"color: #00af00; text-decoration-color: #00af00\">8</span>)              │            <span style=\"color: #00af00; text-decoration-color: #00af00\">72</span> │\n",
              "├─────────────────────────────────┼────────────────────────┼───────────────┤\n",
              "│ dropout_6 (<span style=\"color: #0087ff; text-decoration-color: #0087ff\">Dropout</span>)             │ (<span style=\"color: #00d7ff; text-decoration-color: #00d7ff\">None</span>, <span style=\"color: #00af00; text-decoration-color: #00af00\">8</span>)              │             <span style=\"color: #00af00; text-decoration-color: #00af00\">0</span> │\n",
              "├─────────────────────────────────┼────────────────────────┼───────────────┤\n",
              "│ dense_7 (<span style=\"color: #0087ff; text-decoration-color: #0087ff\">Dense</span>)                 │ (<span style=\"color: #00d7ff; text-decoration-color: #00d7ff\">None</span>, <span style=\"color: #00af00; text-decoration-color: #00af00\">8</span>)              │            <span style=\"color: #00af00; text-decoration-color: #00af00\">72</span> │\n",
              "├─────────────────────────────────┼────────────────────────┼───────────────┤\n",
              "│ dropout_7 (<span style=\"color: #0087ff; text-decoration-color: #0087ff\">Dropout</span>)             │ (<span style=\"color: #00d7ff; text-decoration-color: #00d7ff\">None</span>, <span style=\"color: #00af00; text-decoration-color: #00af00\">8</span>)              │             <span style=\"color: #00af00; text-decoration-color: #00af00\">0</span> │\n",
              "├─────────────────────────────────┼────────────────────────┼───────────────┤\n",
              "│ dense_8 (<span style=\"color: #0087ff; text-decoration-color: #0087ff\">Dense</span>)                 │ (<span style=\"color: #00d7ff; text-decoration-color: #00d7ff\">None</span>, <span style=\"color: #00af00; text-decoration-color: #00af00\">8</span>)              │            <span style=\"color: #00af00; text-decoration-color: #00af00\">72</span> │\n",
              "├─────────────────────────────────┼────────────────────────┼───────────────┤\n",
              "│ dropout_8 (<span style=\"color: #0087ff; text-decoration-color: #0087ff\">Dropout</span>)             │ (<span style=\"color: #00d7ff; text-decoration-color: #00d7ff\">None</span>, <span style=\"color: #00af00; text-decoration-color: #00af00\">8</span>)              │             <span style=\"color: #00af00; text-decoration-color: #00af00\">0</span> │\n",
              "├─────────────────────────────────┼────────────────────────┼───────────────┤\n",
              "│ dense_9 (<span style=\"color: #0087ff; text-decoration-color: #0087ff\">Dense</span>)                 │ (<span style=\"color: #00d7ff; text-decoration-color: #00d7ff\">None</span>, <span style=\"color: #00af00; text-decoration-color: #00af00\">8</span>)              │            <span style=\"color: #00af00; text-decoration-color: #00af00\">72</span> │\n",
              "├─────────────────────────────────┼────────────────────────┼───────────────┤\n",
              "│ dropout_9 (<span style=\"color: #0087ff; text-decoration-color: #0087ff\">Dropout</span>)             │ (<span style=\"color: #00d7ff; text-decoration-color: #00d7ff\">None</span>, <span style=\"color: #00af00; text-decoration-color: #00af00\">8</span>)              │             <span style=\"color: #00af00; text-decoration-color: #00af00\">0</span> │\n",
              "├─────────────────────────────────┼────────────────────────┼───────────────┤\n",
              "│ dense_10 (<span style=\"color: #0087ff; text-decoration-color: #0087ff\">Dense</span>)                │ (<span style=\"color: #00d7ff; text-decoration-color: #00d7ff\">None</span>, <span style=\"color: #00af00; text-decoration-color: #00af00\">1</span>)              │             <span style=\"color: #00af00; text-decoration-color: #00af00\">9</span> │\n",
              "└─────────────────────────────────┴────────────────────────┴───────────────┘\n",
              "</pre>\n"
            ]
          },
          "metadata": {}
        },
        {
          "output_type": "display_data",
          "data": {
            "text/plain": [
              "\u001b[1m Total params: \u001b[0m\u001b[38;5;34m198,945\u001b[0m (777.13 KB)\n"
            ],
            "text/html": [
              "<pre style=\"white-space:pre;overflow-x:auto;line-height:normal;font-family:Menlo,'DejaVu Sans Mono',consolas,'Courier New',monospace\"><span style=\"font-weight: bold\"> Total params: </span><span style=\"color: #00af00; text-decoration-color: #00af00\">198,945</span> (777.13 KB)\n",
              "</pre>\n"
            ]
          },
          "metadata": {}
        },
        {
          "output_type": "display_data",
          "data": {
            "text/plain": [
              "\u001b[1m Trainable params: \u001b[0m\u001b[38;5;34m198,945\u001b[0m (777.13 KB)\n"
            ],
            "text/html": [
              "<pre style=\"white-space:pre;overflow-x:auto;line-height:normal;font-family:Menlo,'DejaVu Sans Mono',consolas,'Courier New',monospace\"><span style=\"font-weight: bold\"> Trainable params: </span><span style=\"color: #00af00; text-decoration-color: #00af00\">198,945</span> (777.13 KB)\n",
              "</pre>\n"
            ]
          },
          "metadata": {}
        },
        {
          "output_type": "display_data",
          "data": {
            "text/plain": [
              "\u001b[1m Non-trainable params: \u001b[0m\u001b[38;5;34m0\u001b[0m (0.00 B)\n"
            ],
            "text/html": [
              "<pre style=\"white-space:pre;overflow-x:auto;line-height:normal;font-family:Menlo,'DejaVu Sans Mono',consolas,'Courier New',monospace\"><span style=\"font-weight: bold\"> Non-trainable params: </span><span style=\"color: #00af00; text-decoration-color: #00af00\">0</span> (0.00 B)\n",
              "</pre>\n"
            ]
          },
          "metadata": {}
        }
      ]
    },
    {
      "cell_type": "code",
      "source": [
        "history = model.fit(X_train_fe, y_train, epochs=1000, validation_data=(X_val_fe, y_val), callbacks=callback, batch_size=128)"
      ],
      "metadata": {
        "colab": {
          "base_uri": "https://localhost:8080/"
        },
        "id": "bNJ7kPzCmBEN",
        "outputId": "947f354b-9742-403d-c7a5-04a1f495579d"
      },
      "execution_count": null,
      "outputs": [
        {
          "output_type": "stream",
          "name": "stdout",
          "text": [
            "Epoch 1/1000\n",
            "\u001b[1m4688/4688\u001b[0m \u001b[32m━━━━━━━━━━━━━━━━━━━━\u001b[0m\u001b[37m\u001b[0m \u001b[1m31s\u001b[0m 5ms/step - accuracy: 0.8795 - loss: 0.3487 - val_accuracy: 0.8786 - val_loss: 0.3435\n",
            "Epoch 2/1000\n",
            "\u001b[1m4688/4688\u001b[0m \u001b[32m━━━━━━━━━━━━━━━━━━━━\u001b[0m\u001b[37m\u001b[0m \u001b[1m16s\u001b[0m 4ms/step - accuracy: 0.8800 - loss: 0.3454 - val_accuracy: 0.8786 - val_loss: 0.3417\n",
            "Epoch 3/1000\n",
            "\u001b[1m4688/4688\u001b[0m \u001b[32m━━━━━━━━━━━━━━━━━━━━\u001b[0m\u001b[37m\u001b[0m \u001b[1m17s\u001b[0m 4ms/step - accuracy: 0.8797 - loss: 0.3467 - val_accuracy: 0.8786 - val_loss: 0.3444\n",
            "Epoch 4/1000\n",
            "\u001b[1m4688/4688\u001b[0m \u001b[32m━━━━━━━━━━━━━━━━━━━━\u001b[0m\u001b[37m\u001b[0m \u001b[1m17s\u001b[0m 4ms/step - accuracy: 0.8799 - loss: 0.3471 - val_accuracy: 0.8786 - val_loss: 0.3490\n",
            "Epoch 5/1000\n",
            "\u001b[1m4688/4688\u001b[0m \u001b[32m━━━━━━━━━━━━━━━━━━━━\u001b[0m\u001b[37m\u001b[0m \u001b[1m17s\u001b[0m 4ms/step - accuracy: 0.8798 - loss: 0.3515 - val_accuracy: 0.8786 - val_loss: 0.3485\n",
            "Epoch 6/1000\n",
            "\u001b[1m4688/4688\u001b[0m \u001b[32m━━━━━━━━━━━━━━━━━━━━\u001b[0m\u001b[37m\u001b[0m \u001b[1m17s\u001b[0m 4ms/step - accuracy: 0.8789 - loss: 0.3505 - val_accuracy: 0.8786 - val_loss: 0.3446\n",
            "Epoch 7/1000\n",
            "\u001b[1m4688/4688\u001b[0m \u001b[32m━━━━━━━━━━━━━━━━━━━━\u001b[0m\u001b[37m\u001b[0m \u001b[1m17s\u001b[0m 4ms/step - accuracy: 0.8798 - loss: 0.3474 - val_accuracy: 0.8786 - val_loss: 0.3519\n",
            "Epoch 8/1000\n",
            "\u001b[1m4688/4688\u001b[0m \u001b[32m━━━━━━━━━━━━━━━━━━━━\u001b[0m\u001b[37m\u001b[0m \u001b[1m17s\u001b[0m 4ms/step - accuracy: 0.8797 - loss: 0.3503 - val_accuracy: 0.8786 - val_loss: 0.3481\n",
            "Epoch 9/1000\n",
            "\u001b[1m4688/4688\u001b[0m \u001b[32m━━━━━━━━━━━━━━━━━━━━\u001b[0m\u001b[37m\u001b[0m \u001b[1m18s\u001b[0m 4ms/step - accuracy: 0.8794 - loss: 0.3502 - val_accuracy: 0.8786 - val_loss: 0.3563\n",
            "Epoch 10/1000\n",
            "\u001b[1m4688/4688\u001b[0m \u001b[32m━━━━━━━━━━━━━━━━━━━━\u001b[0m\u001b[37m\u001b[0m \u001b[1m18s\u001b[0m 4ms/step - accuracy: 0.8797 - loss: 0.3565 - val_accuracy: 0.8786 - val_loss: 0.3490\n",
            "Epoch 11/1000\n",
            "\u001b[1m4688/4688\u001b[0m \u001b[32m━━━━━━━━━━━━━━━━━━━━\u001b[0m\u001b[37m\u001b[0m \u001b[1m18s\u001b[0m 4ms/step - accuracy: 0.8801 - loss: 0.3495 - val_accuracy: 0.8786 - val_loss: 0.3518\n",
            "Epoch 12/1000\n",
            "\u001b[1m4688/4688\u001b[0m \u001b[32m━━━━━━━━━━━━━━━━━━━━\u001b[0m\u001b[37m\u001b[0m \u001b[1m18s\u001b[0m 4ms/step - accuracy: 0.8786 - loss: 0.3539 - val_accuracy: 0.8786 - val_loss: 0.3477\n",
            "Epoch 13/1000\n",
            "\u001b[1m4688/4688\u001b[0m \u001b[32m━━━━━━━━━━━━━━━━━━━━\u001b[0m\u001b[37m\u001b[0m \u001b[1m18s\u001b[0m 4ms/step - accuracy: 0.8792 - loss: 0.3491 - val_accuracy: 0.8786 - val_loss: 0.3486\n",
            "Epoch 14/1000\n",
            "\u001b[1m4688/4688\u001b[0m \u001b[32m━━━━━━━━━━━━━━━━━━━━\u001b[0m\u001b[37m\u001b[0m \u001b[1m18s\u001b[0m 4ms/step - accuracy: 0.8800 - loss: 0.3486 - val_accuracy: 0.8786 - val_loss: 0.3546\n",
            "Epoch 15/1000\n",
            "\u001b[1m4688/4688\u001b[0m \u001b[32m━━━━━━━━━━━━━━━━━━━━\u001b[0m\u001b[37m\u001b[0m \u001b[1m18s\u001b[0m 4ms/step - accuracy: 0.8790 - loss: 0.3514 - val_accuracy: 0.8786 - val_loss: 0.3654\n",
            "Epoch 16/1000\n",
            "\u001b[1m4688/4688\u001b[0m \u001b[32m━━━━━━━━━━━━━━━━━━━━\u001b[0m\u001b[37m\u001b[0m \u001b[1m18s\u001b[0m 4ms/step - accuracy: 0.8804 - loss: 0.3620 - val_accuracy: 0.8786 - val_loss: 0.3599\n",
            "Epoch 17/1000\n",
            "\u001b[1m4688/4688\u001b[0m \u001b[32m━━━━━━━━━━━━━━━━━━━━\u001b[0m\u001b[37m\u001b[0m \u001b[1m17s\u001b[0m 4ms/step - accuracy: 0.8790 - loss: 0.3596 - val_accuracy: 0.8786 - val_loss: 0.3546\n",
            "Epoch 18/1000\n",
            "\u001b[1m4688/4688\u001b[0m \u001b[32m━━━━━━━━━━━━━━━━━━━━\u001b[0m\u001b[37m\u001b[0m \u001b[1m17s\u001b[0m 4ms/step - accuracy: 0.8792 - loss: 0.3592 - val_accuracy: 0.8786 - val_loss: 0.3700\n",
            "Epoch 19/1000\n",
            "\u001b[1m4688/4688\u001b[0m \u001b[32m━━━━━━━━━━━━━━━━━━━━\u001b[0m\u001b[37m\u001b[0m \u001b[1m17s\u001b[0m 4ms/step - accuracy: 0.8792 - loss: 0.3665 - val_accuracy: 0.8786 - val_loss: 0.3686\n",
            "Epoch 20/1000\n",
            "\u001b[1m4688/4688\u001b[0m \u001b[32m━━━━━━━━━━━━━━━━━━━━\u001b[0m\u001b[37m\u001b[0m \u001b[1m17s\u001b[0m 4ms/step - accuracy: 0.8798 - loss: 0.3655 - val_accuracy: 0.8786 - val_loss: 0.3689\n",
            "Epoch 21/1000\n",
            "\u001b[1m4688/4688\u001b[0m \u001b[32m━━━━━━━━━━━━━━━━━━━━\u001b[0m\u001b[37m\u001b[0m \u001b[1m17s\u001b[0m 4ms/step - accuracy: 0.8800 - loss: 0.3660 - val_accuracy: 0.8786 - val_loss: 0.3668\n"
          ]
        }
      ]
    },
    {
      "cell_type": "code",
      "source": [
        "import pandas as pd\n",
        "\n",
        "# Load the test file for 'id' column\n",
        "testify = pd.read_csv(\"/kaggle/input/playground-series-s5e8/test.csv\")\n",
        "\n",
        "test_fe=add_features_numeric_only(test)\n",
        "\n",
        "y_probs= model.predict(test_fe).flatten()\n",
        "\n",
        "\n",
        "# y_probs is already the averaged predictions from all folds\n",
        "submission = pd.DataFrame({\n",
        "    'id': testify['id'],\n",
        "    'target': y_probs  # from CV loop\n",
        "})\n",
        "\n",
        "# Save to CSV\n",
        "submission.to_csv('bic_submission.csv', index=False)\n",
        "\n",
        "print(\"✅ Submission file saved as 'bic_submission.csv'\")"
      ],
      "metadata": {
        "colab": {
          "base_uri": "https://localhost:8080/"
        },
        "id": "yTZLHHNcwOT9",
        "outputId": "a5fd71a4-f258-4020-8055-2a33dcb92afe"
      },
      "execution_count": null,
      "outputs": [
        {
          "output_type": "stream",
          "name": "stdout",
          "text": [
            "\u001b[1m7813/7813\u001b[0m \u001b[32m━━━━━━━━━━━━━━━━━━━━\u001b[0m\u001b[37m\u001b[0m \u001b[1m11s\u001b[0m 1ms/step\n",
            "✅ Submission file saved as 'submission.csv'\n"
          ]
        }
      ]
    },
    {
      "cell_type": "code",
      "source": [],
      "metadata": {
        "id": "1Af4QePExTRc"
      },
      "execution_count": null,
      "outputs": []
    }
  ]
}